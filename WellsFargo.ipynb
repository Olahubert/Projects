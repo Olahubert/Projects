{
 "cells": [
  {
   "cell_type": "code",
   "execution_count": 1,
   "id": "8d75d366",
   "metadata": {},
   "outputs": [],
   "source": [
    "import pandas as pd\n",
    "import re"
   ]
  },
  {
   "cell_type": "code",
   "execution_count": 2,
   "id": "df0625c1",
   "metadata": {},
   "outputs": [],
   "source": [
    "df = pd.read_excel('WellsFargo.xlsx')"
   ]
  },
  {
   "cell_type": "code",
   "execution_count": 3,
   "id": "e7272fd6",
   "metadata": {},
   "outputs": [
    {
     "data": {
      "text/html": [
       "<div>\n",
       "<style scoped>\n",
       "    .dataframe tbody tr th:only-of-type {\n",
       "        vertical-align: middle;\n",
       "    }\n",
       "\n",
       "    .dataframe tbody tr th {\n",
       "        vertical-align: top;\n",
       "    }\n",
       "\n",
       "    .dataframe thead th {\n",
       "        text-align: right;\n",
       "    }\n",
       "</style>\n",
       "<table border=\"1\" class=\"dataframe\">\n",
       "  <thead>\n",
       "    <tr style=\"text-align: right;\">\n",
       "      <th></th>\n",
       "      <th>message_id</th>\n",
       "      <th>timestamp</th>\n",
       "      <th>messageText</th>\n",
       "      <th>CleanedText</th>\n",
       "    </tr>\n",
       "  </thead>\n",
       "  <tbody>\n",
       "    <tr>\n",
       "      <th>0</th>\n",
       "      <td>774389429725170944</td>\n",
       "      <td>2016-09-09 16:30:00</td>\n",
       "      <td>[&lt;strong&gt;Wells Fargo&lt;/strong&gt;, ' fined $185 mi...</td>\n",
       "      <td>NaN</td>\n",
       "    </tr>\n",
       "    <tr>\n",
       "      <th>1</th>\n",
       "      <td>774377609123794048</td>\n",
       "      <td>2016-09-09 15:43:00</td>\n",
       "      <td>[&lt;strong&gt;Wells Fargo&lt;/strong&gt;, ' fined $100 mi...</td>\n",
       "      <td>NaN</td>\n",
       "    </tr>\n",
       "    <tr>\n",
       "      <th>2</th>\n",
       "      <td>774396897117298048</td>\n",
       "      <td>2016-09-09 16:59:00</td>\n",
       "      <td>[\"Why Aren't Exec Heads Rolling at \", &lt;strong&gt;...</td>\n",
       "      <td>NaN</td>\n",
       "    </tr>\n",
       "    <tr>\n",
       "      <th>3</th>\n",
       "      <td>774372542672875008</td>\n",
       "      <td>2016-09-09 15:22:00</td>\n",
       "      <td>['Fake accounts put focus on ', &lt;strong&gt;Wells ...</td>\n",
       "      <td>NaN</td>\n",
       "    </tr>\n",
       "    <tr>\n",
       "      <th>4</th>\n",
       "      <td>774388241386482944</td>\n",
       "      <td>2016-09-09 16:25:00</td>\n",
       "      <td>[&lt;strong&gt;Wells Fargo&lt;/strong&gt;, ' blaming emplo...</td>\n",
       "      <td>NaN</td>\n",
       "    </tr>\n",
       "    <tr>\n",
       "      <th>...</th>\n",
       "      <td>...</td>\n",
       "      <td>...</td>\n",
       "      <td>...</td>\n",
       "      <td>...</td>\n",
       "    </tr>\n",
       "    <tr>\n",
       "      <th>9181</th>\n",
       "      <td>LO-OYLxpRzE</td>\n",
       "      <td>2016-10-04 00:00:00</td>\n",
       "      <td>this video page is like a freakn.virus. I have...</td>\n",
       "      <td>NaN</td>\n",
       "    </tr>\n",
       "    <tr>\n",
       "      <th>9182</th>\n",
       "      <td>LO-OYLxpRzE</td>\n",
       "      <td>2016-10-04 00:00:00</td>\n",
       "      <td>please do more isis stuff.</td>\n",
       "      <td>NaN</td>\n",
       "    </tr>\n",
       "    <tr>\n",
       "      <th>9183</th>\n",
       "      <td>LO-OYLxpRzE</td>\n",
       "      <td>2016-10-04 00:00:00</td>\n",
       "      <td>American prisons are the most comfortable pris...</td>\n",
       "      <td>NaN</td>\n",
       "    </tr>\n",
       "    <tr>\n",
       "      <th>9184</th>\n",
       "      <td>LO-OYLxpRzE</td>\n",
       "      <td>2016-10-04 00:00:00</td>\n",
       "      <td>aww the murderer has poor living conditions. h...</td>\n",
       "      <td>NaN</td>\n",
       "    </tr>\n",
       "    <tr>\n",
       "      <th>9185</th>\n",
       "      <td>LO-OYLxpRzE</td>\n",
       "      <td>2016-10-04 00:00:00</td>\n",
       "      <td>Don't like prison? Don't murder people ( &lt;U+03...</td>\n",
       "      <td>NaN</td>\n",
       "    </tr>\n",
       "  </tbody>\n",
       "</table>\n",
       "<p>9186 rows × 4 columns</p>\n",
       "</div>"
      ],
      "text/plain": [
       "              message_id           timestamp  \\\n",
       "0     774389429725170944 2016-09-09 16:30:00   \n",
       "1     774377609123794048 2016-09-09 15:43:00   \n",
       "2     774396897117298048 2016-09-09 16:59:00   \n",
       "3     774372542672875008 2016-09-09 15:22:00   \n",
       "4     774388241386482944 2016-09-09 16:25:00   \n",
       "...                  ...                 ...   \n",
       "9181         LO-OYLxpRzE 2016-10-04 00:00:00   \n",
       "9182         LO-OYLxpRzE 2016-10-04 00:00:00   \n",
       "9183         LO-OYLxpRzE 2016-10-04 00:00:00   \n",
       "9184         LO-OYLxpRzE 2016-10-04 00:00:00   \n",
       "9185         LO-OYLxpRzE 2016-10-04 00:00:00   \n",
       "\n",
       "                                            messageText  CleanedText  \n",
       "0     [<strong>Wells Fargo</strong>, ' fined $185 mi...          NaN  \n",
       "1     [<strong>Wells Fargo</strong>, ' fined $100 mi...          NaN  \n",
       "2     [\"Why Aren't Exec Heads Rolling at \", <strong>...          NaN  \n",
       "3     ['Fake accounts put focus on ', <strong>Wells ...          NaN  \n",
       "4     [<strong>Wells Fargo</strong>, ' blaming emplo...          NaN  \n",
       "...                                                 ...          ...  \n",
       "9181  this video page is like a freakn.virus. I have...          NaN  \n",
       "9182                         please do more isis stuff.          NaN  \n",
       "9183  American prisons are the most comfortable pris...          NaN  \n",
       "9184  aww the murderer has poor living conditions. h...          NaN  \n",
       "9185  Don't like prison? Don't murder people ( <U+03...          NaN  \n",
       "\n",
       "[9186 rows x 4 columns]"
      ]
     },
     "execution_count": 3,
     "metadata": {},
     "output_type": "execute_result"
    }
   ],
   "source": [
    "df"
   ]
  },
  {
   "cell_type": "code",
   "execution_count": 6,
   "id": "c5f161a7",
   "metadata": {},
   "outputs": [],
   "source": [
    "# Clean the data\n",
    "def clean_text(text):\n",
    "    # Check if the input is a string\n",
    "    if isinstance(text, str):\n",
    "        # Remove hyperlinks\n",
    "        text = re.sub(r'<a.*?>(.*?)<\\/a>', r'\\1', text)\n",
    "        \n",
    "        # Remove HTML tags\n",
    "        text = re.sub(r'<[^>]*>', '', text)\n",
    "        \n",
    "        # Remove foreign language characters\n",
    "        text = re.sub(r'[^\\x00-\\x7F]+', '', text)\n",
    "        \n",
    "        # Remove extra spaces and whitespaces\n",
    "        text = ' '.join(text.split())\n",
    "    else:\n",
    "        # Handle non-string inputs, e.g., by setting them to \"unknown\"\n",
    "        text = \"unknown\"\n",
    "    \n",
    "    return text"
   ]
  },
  {
   "cell_type": "code",
   "execution_count": 7,
   "id": "9dfb8004",
   "metadata": {},
   "outputs": [],
   "source": [
    "df['CleanedText'] = df['messageText'].apply(clean_text)"
   ]
  },
  {
   "cell_type": "code",
   "execution_count": 11,
   "id": "ec51ab61",
   "metadata": {},
   "outputs": [
    {
     "data": {
      "text/plain": [
       "'[\\'This week, \\', @WellsFargo, \" fired 5,300 employees for opening 2 million fake accounts in customers\\' names \", http://boingboing.net/2016/09/09/wells-fargo-fires-5300-employ.html]'"
      ]
     },
     "execution_count": 11,
     "metadata": {},
     "output_type": "execute_result"
    }
   ],
   "source": [
    "df['CleanedText'].iloc[50]"
   ]
  },
  {
   "cell_type": "code",
   "execution_count": 12,
   "id": "1762e5e5",
   "metadata": {},
   "outputs": [],
   "source": [
    "df.to_excel('WellsFargo2.xlsx')"
   ]
  },
  {
   "cell_type": "code",
   "execution_count": null,
   "id": "a348b432",
   "metadata": {},
   "outputs": [],
   "source": []
  },
  {
   "cell_type": "code",
   "execution_count": null,
   "id": "2cc5cba8",
   "metadata": {},
   "outputs": [],
   "source": []
  },
  {
   "cell_type": "code",
   "execution_count": null,
   "id": "df8294b6",
   "metadata": {},
   "outputs": [],
   "source": []
  },
  {
   "cell_type": "code",
   "execution_count": null,
   "id": "eca45c54",
   "metadata": {},
   "outputs": [],
   "source": []
  }
 ],
 "metadata": {
  "kernelspec": {
   "display_name": "Python 3 (ipykernel)",
   "language": "python",
   "name": "python3"
  },
  "language_info": {
   "codemirror_mode": {
    "name": "ipython",
    "version": 3
   },
   "file_extension": ".py",
   "mimetype": "text/x-python",
   "name": "python",
   "nbconvert_exporter": "python",
   "pygments_lexer": "ipython3",
   "version": "3.11.5"
  }
 },
 "nbformat": 4,
 "nbformat_minor": 5
}
