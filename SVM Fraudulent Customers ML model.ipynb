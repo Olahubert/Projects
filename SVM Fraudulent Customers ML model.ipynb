{
 "cells": [
  {
   "cell_type": "raw",
   "id": "de8d18c8",
   "metadata": {},
   "source": [
    "This dataset is related to financial transactions, likely with a focus on credit card fraud detection. It contains information about individual transactions and customer details.\n",
    "these data identifies fraudulent credit card transactions and evaluates the risk of fraudulent activity  based on customers  transaction patterns, customer details, and merchant information"
   ]
  },
  {
   "cell_type": "code",
   "execution_count": 3,
   "id": "805c39ee",
   "metadata": {},
   "outputs": [],
   "source": [
    "import pandas as pd\n",
    "import numpy as np\n",
    "import matplotlib.pyplot as plt\n",
    "import seaborn as sns\n",
    "from sklearn.svm import SVC\n",
    "from sklearn.svm import LinearSVC"
   ]
  },
  {
   "cell_type": "code",
   "execution_count": 184,
   "id": "9ef7f638",
   "metadata": {},
   "outputs": [],
   "source": [
    "Fraud=pd.read_excel('Training_Fraud_data3.xlsx')"
   ]
  },
  {
   "cell_type": "code",
   "execution_count": 8,
   "id": "ccb4f819",
   "metadata": {},
   "outputs": [
    {
     "data": {
      "text/html": [
       "<div>\n",
       "<style scoped>\n",
       "    .dataframe tbody tr th:only-of-type {\n",
       "        vertical-align: middle;\n",
       "    }\n",
       "\n",
       "    .dataframe tbody tr th {\n",
       "        vertical-align: top;\n",
       "    }\n",
       "\n",
       "    .dataframe thead th {\n",
       "        text-align: right;\n",
       "    }\n",
       "</style>\n",
       "<table border=\"1\" class=\"dataframe\">\n",
       "  <thead>\n",
       "    <tr style=\"text-align: right;\">\n",
       "      <th></th>\n",
       "      <th>trans_date_trans_time</th>\n",
       "      <th>cc_num</th>\n",
       "      <th>merchant</th>\n",
       "      <th>category</th>\n",
       "      <th>amt</th>\n",
       "      <th>first</th>\n",
       "      <th>last</th>\n",
       "      <th>gender</th>\n",
       "      <th>street</th>\n",
       "      <th>city</th>\n",
       "      <th>...</th>\n",
       "      <th>long</th>\n",
       "      <th>city_pop</th>\n",
       "      <th>job</th>\n",
       "      <th>dob</th>\n",
       "      <th>trans_num</th>\n",
       "      <th>unix_time</th>\n",
       "      <th>merch_lat</th>\n",
       "      <th>merch_long</th>\n",
       "      <th>is_fraud</th>\n",
       "      <th>Data_FLAG</th>\n",
       "    </tr>\n",
       "  </thead>\n",
       "  <tbody>\n",
       "    <tr>\n",
       "      <th>0</th>\n",
       "      <td>2019-01-01 00:00:18</td>\n",
       "      <td>2703186189652090</td>\n",
       "      <td>fraud_Rippin, Kub and Mann</td>\n",
       "      <td>misc_net</td>\n",
       "      <td>4.97</td>\n",
       "      <td>Jennifer</td>\n",
       "      <td>Banks</td>\n",
       "      <td>F</td>\n",
       "      <td>561 Perry Cove</td>\n",
       "      <td>Moravian Falls</td>\n",
       "      <td>...</td>\n",
       "      <td>-81.1781</td>\n",
       "      <td>3495</td>\n",
       "      <td>Psychologist, counselling</td>\n",
       "      <td>1988-03-09</td>\n",
       "      <td>0b242abb623afc578575680df30655b9</td>\n",
       "      <td>1325376018</td>\n",
       "      <td>36.011293</td>\n",
       "      <td>-82.048315</td>\n",
       "      <td>0</td>\n",
       "      <td>TRAINING</td>\n",
       "    </tr>\n",
       "    <tr>\n",
       "      <th>1</th>\n",
       "      <td>2019-01-01 00:00:44</td>\n",
       "      <td>630423337322</td>\n",
       "      <td>fraud_Heller, Gutmann and Zieme</td>\n",
       "      <td>grocery_pos</td>\n",
       "      <td>107.23</td>\n",
       "      <td>Stephanie</td>\n",
       "      <td>Gill</td>\n",
       "      <td>F</td>\n",
       "      <td>43039 Riley Greens Suite 393</td>\n",
       "      <td>Orient</td>\n",
       "      <td>...</td>\n",
       "      <td>-118.2105</td>\n",
       "      <td>149</td>\n",
       "      <td>Special educational needs teacher</td>\n",
       "      <td>1978-06-21</td>\n",
       "      <td>1f76529f8574734946361c461b024d99</td>\n",
       "      <td>1325376044</td>\n",
       "      <td>49.159047</td>\n",
       "      <td>-118.186462</td>\n",
       "      <td>0</td>\n",
       "      <td>TRAINING</td>\n",
       "    </tr>\n",
       "    <tr>\n",
       "      <th>2</th>\n",
       "      <td>2019-01-01 00:00:51</td>\n",
       "      <td>38859492057661</td>\n",
       "      <td>fraud_Lind-Buckridge</td>\n",
       "      <td>entertainment</td>\n",
       "      <td>220.11</td>\n",
       "      <td>Edward</td>\n",
       "      <td>Sanchez</td>\n",
       "      <td>M</td>\n",
       "      <td>594 White Dale Suite 530</td>\n",
       "      <td>Malad City</td>\n",
       "      <td>...</td>\n",
       "      <td>-112.2620</td>\n",
       "      <td>4154</td>\n",
       "      <td>Nature conservation officer</td>\n",
       "      <td>1962-01-19</td>\n",
       "      <td>a1a22d70485983eac12b5b88dad1cf95</td>\n",
       "      <td>1325376051</td>\n",
       "      <td>43.150704</td>\n",
       "      <td>-112.154481</td>\n",
       "      <td>0</td>\n",
       "      <td>TRAINING</td>\n",
       "    </tr>\n",
       "    <tr>\n",
       "      <th>3</th>\n",
       "      <td>2019-01-01 00:01:16</td>\n",
       "      <td>3534093764340240</td>\n",
       "      <td>fraud_Kutch, Hermiston and Farrell</td>\n",
       "      <td>gas_transport</td>\n",
       "      <td>45.00</td>\n",
       "      <td>Jeremy</td>\n",
       "      <td>White</td>\n",
       "      <td>M</td>\n",
       "      <td>9443 Cynthia Court Apt. 038</td>\n",
       "      <td>Boulder</td>\n",
       "      <td>...</td>\n",
       "      <td>-112.1138</td>\n",
       "      <td>1939</td>\n",
       "      <td>Patent attorney</td>\n",
       "      <td>1967-01-12</td>\n",
       "      <td>6b849c168bdad6f867558c3793159a81</td>\n",
       "      <td>1325376076</td>\n",
       "      <td>47.034331</td>\n",
       "      <td>-112.561071</td>\n",
       "      <td>0</td>\n",
       "      <td>TRAINING</td>\n",
       "    </tr>\n",
       "    <tr>\n",
       "      <th>4</th>\n",
       "      <td>2019-01-01 00:03:06</td>\n",
       "      <td>375534208663984</td>\n",
       "      <td>fraud_Keeling-Crist</td>\n",
       "      <td>misc_pos</td>\n",
       "      <td>41.96</td>\n",
       "      <td>Tyler</td>\n",
       "      <td>Garcia</td>\n",
       "      <td>M</td>\n",
       "      <td>408 Bradley Rest</td>\n",
       "      <td>Doe Hill</td>\n",
       "      <td>...</td>\n",
       "      <td>-79.4629</td>\n",
       "      <td>99</td>\n",
       "      <td>Dance movement psychotherapist</td>\n",
       "      <td>1986-03-28</td>\n",
       "      <td>a41d7549acf90789359a9aa5346dcb46</td>\n",
       "      <td>1325376186</td>\n",
       "      <td>38.674999</td>\n",
       "      <td>-78.632459</td>\n",
       "      <td>0</td>\n",
       "      <td>TRAINING</td>\n",
       "    </tr>\n",
       "    <tr>\n",
       "      <th>...</th>\n",
       "      <td>...</td>\n",
       "      <td>...</td>\n",
       "      <td>...</td>\n",
       "      <td>...</td>\n",
       "      <td>...</td>\n",
       "      <td>...</td>\n",
       "      <td>...</td>\n",
       "      <td>...</td>\n",
       "      <td>...</td>\n",
       "      <td>...</td>\n",
       "      <td>...</td>\n",
       "      <td>...</td>\n",
       "      <td>...</td>\n",
       "      <td>...</td>\n",
       "      <td>...</td>\n",
       "      <td>...</td>\n",
       "      <td>...</td>\n",
       "      <td>...</td>\n",
       "      <td>...</td>\n",
       "      <td>...</td>\n",
       "      <td>...</td>\n",
       "    </tr>\n",
       "    <tr>\n",
       "      <th>4995</th>\n",
       "      <td>2019-01-04 05:09:49</td>\n",
       "      <td>2235335206132660</td>\n",
       "      <td>fraud_Lynch Ltd</td>\n",
       "      <td>shopping_pos</td>\n",
       "      <td>1180.30</td>\n",
       "      <td>Maria</td>\n",
       "      <td>Rosales</td>\n",
       "      <td>F</td>\n",
       "      <td>6611 Parrish Garden Apt. 428</td>\n",
       "      <td>Waynesfield</td>\n",
       "      <td>...</td>\n",
       "      <td>-83.9585</td>\n",
       "      <td>2089</td>\n",
       "      <td>Building control surveyor</td>\n",
       "      <td>1963-06-22</td>\n",
       "      <td>44827746427d28ce90c337b84cdad67c</td>\n",
       "      <td>1325653789</td>\n",
       "      <td>40.438221</td>\n",
       "      <td>-83.485925</td>\n",
       "      <td>0</td>\n",
       "      <td>TRAINING</td>\n",
       "    </tr>\n",
       "    <tr>\n",
       "      <th>4996</th>\n",
       "      <td>2019-01-04 05:12:33</td>\n",
       "      <td>375237305371366</td>\n",
       "      <td>fraud_Friesen-Stamm</td>\n",
       "      <td>gas_transport</td>\n",
       "      <td>83.47</td>\n",
       "      <td>David</td>\n",
       "      <td>Erickson</td>\n",
       "      <td>M</td>\n",
       "      <td>616 Jimenez Meadow Apt. 701</td>\n",
       "      <td>East Rochester</td>\n",
       "      <td>...</td>\n",
       "      <td>-77.4906</td>\n",
       "      <td>8019</td>\n",
       "      <td>Retail buyer</td>\n",
       "      <td>1928-06-26</td>\n",
       "      <td>51669b87249060cc80b9af943c9869af</td>\n",
       "      <td>1325653953</td>\n",
       "      <td>42.415407</td>\n",
       "      <td>-78.158282</td>\n",
       "      <td>0</td>\n",
       "      <td>TRAINING</td>\n",
       "    </tr>\n",
       "    <tr>\n",
       "      <th>4997</th>\n",
       "      <td>2019-01-04 05:13:23</td>\n",
       "      <td>2235335206132660</td>\n",
       "      <td>fraud_Paucek-Wiza</td>\n",
       "      <td>grocery_net</td>\n",
       "      <td>36.64</td>\n",
       "      <td>Maria</td>\n",
       "      <td>Rosales</td>\n",
       "      <td>F</td>\n",
       "      <td>6611 Parrish Garden Apt. 428</td>\n",
       "      <td>Waynesfield</td>\n",
       "      <td>...</td>\n",
       "      <td>-83.9585</td>\n",
       "      <td>2089</td>\n",
       "      <td>Building control surveyor</td>\n",
       "      <td>1963-06-22</td>\n",
       "      <td>eb74899e4d7095d2445ac4e4eb6ae473</td>\n",
       "      <td>1325654003</td>\n",
       "      <td>40.958936</td>\n",
       "      <td>-84.629338</td>\n",
       "      <td>0</td>\n",
       "      <td>TRAINING</td>\n",
       "    </tr>\n",
       "    <tr>\n",
       "      <th>4998</th>\n",
       "      <td>2019-01-04 05:14:46</td>\n",
       "      <td>502012776709</td>\n",
       "      <td>fraud_Welch Inc</td>\n",
       "      <td>misc_net</td>\n",
       "      <td>6.21</td>\n",
       "      <td>Sherry</td>\n",
       "      <td>Martinez</td>\n",
       "      <td>F</td>\n",
       "      <td>144 Yu Locks Apt. 754</td>\n",
       "      <td>Garrattsville</td>\n",
       "      <td>...</td>\n",
       "      <td>-75.1866</td>\n",
       "      <td>165</td>\n",
       "      <td>Naval architect</td>\n",
       "      <td>1945-09-20</td>\n",
       "      <td>eaf4f0819ce9a160401c14d462b942bf</td>\n",
       "      <td>1325654086</td>\n",
       "      <td>43.269532</td>\n",
       "      <td>-76.124026</td>\n",
       "      <td>0</td>\n",
       "      <td>TRAINING</td>\n",
       "    </tr>\n",
       "    <tr>\n",
       "      <th>4999</th>\n",
       "      <td>2019-01-04 05:15:54</td>\n",
       "      <td>4010002218955870</td>\n",
       "      <td>fraud_Schoen, Kuphal and Nitzsche</td>\n",
       "      <td>grocery_pos</td>\n",
       "      <td>224.88</td>\n",
       "      <td>Jennifer</td>\n",
       "      <td>Bishop</td>\n",
       "      <td>F</td>\n",
       "      <td>589 Matthew Brooks</td>\n",
       "      <td>Houston</td>\n",
       "      <td>...</td>\n",
       "      <td>-95.3288</td>\n",
       "      <td>2906700</td>\n",
       "      <td>Animator</td>\n",
       "      <td>1983-08-24</td>\n",
       "      <td>c32f5657aa1de8c4223187aa07719b34</td>\n",
       "      <td>1325654154</td>\n",
       "      <td>30.581495</td>\n",
       "      <td>-95.989099</td>\n",
       "      <td>0</td>\n",
       "      <td>TRAINING</td>\n",
       "    </tr>\n",
       "  </tbody>\n",
       "</table>\n",
       "<p>5000 rows × 23 columns</p>\n",
       "</div>"
      ],
      "text/plain": [
       "     trans_date_trans_time            cc_num  \\\n",
       "0      2019-01-01 00:00:18  2703186189652090   \n",
       "1      2019-01-01 00:00:44      630423337322   \n",
       "2      2019-01-01 00:00:51    38859492057661   \n",
       "3      2019-01-01 00:01:16  3534093764340240   \n",
       "4      2019-01-01 00:03:06   375534208663984   \n",
       "...                    ...               ...   \n",
       "4995   2019-01-04 05:09:49  2235335206132660   \n",
       "4996   2019-01-04 05:12:33   375237305371366   \n",
       "4997   2019-01-04 05:13:23  2235335206132660   \n",
       "4998   2019-01-04 05:14:46      502012776709   \n",
       "4999   2019-01-04 05:15:54  4010002218955870   \n",
       "\n",
       "                                merchant       category      amt      first  \\\n",
       "0             fraud_Rippin, Kub and Mann       misc_net     4.97   Jennifer   \n",
       "1        fraud_Heller, Gutmann and Zieme    grocery_pos   107.23  Stephanie   \n",
       "2                   fraud_Lind-Buckridge  entertainment   220.11     Edward   \n",
       "3     fraud_Kutch, Hermiston and Farrell  gas_transport    45.00     Jeremy   \n",
       "4                    fraud_Keeling-Crist       misc_pos    41.96      Tyler   \n",
       "...                                  ...            ...      ...        ...   \n",
       "4995                     fraud_Lynch Ltd   shopping_pos  1180.30      Maria   \n",
       "4996                 fraud_Friesen-Stamm  gas_transport    83.47      David   \n",
       "4997                   fraud_Paucek-Wiza    grocery_net    36.64      Maria   \n",
       "4998                     fraud_Welch Inc       misc_net     6.21     Sherry   \n",
       "4999   fraud_Schoen, Kuphal and Nitzsche    grocery_pos   224.88   Jennifer   \n",
       "\n",
       "          last gender                        street            city  ...  \\\n",
       "0        Banks      F                561 Perry Cove  Moravian Falls  ...   \n",
       "1         Gill      F  43039 Riley Greens Suite 393          Orient  ...   \n",
       "2      Sanchez      M      594 White Dale Suite 530      Malad City  ...   \n",
       "3        White      M   9443 Cynthia Court Apt. 038         Boulder  ...   \n",
       "4       Garcia      M              408 Bradley Rest        Doe Hill  ...   \n",
       "...        ...    ...                           ...             ...  ...   \n",
       "4995   Rosales      F  6611 Parrish Garden Apt. 428     Waynesfield  ...   \n",
       "4996  Erickson      M   616 Jimenez Meadow Apt. 701  East Rochester  ...   \n",
       "4997   Rosales      F  6611 Parrish Garden Apt. 428     Waynesfield  ...   \n",
       "4998  Martinez      F         144 Yu Locks Apt. 754   Garrattsville  ...   \n",
       "4999    Bishop      F            589 Matthew Brooks         Houston  ...   \n",
       "\n",
       "          long  city_pop                                job        dob  \\\n",
       "0     -81.1781      3495          Psychologist, counselling 1988-03-09   \n",
       "1    -118.2105       149  Special educational needs teacher 1978-06-21   \n",
       "2    -112.2620      4154        Nature conservation officer 1962-01-19   \n",
       "3    -112.1138      1939                    Patent attorney 1967-01-12   \n",
       "4     -79.4629        99     Dance movement psychotherapist 1986-03-28   \n",
       "...        ...       ...                                ...        ...   \n",
       "4995  -83.9585      2089          Building control surveyor 1963-06-22   \n",
       "4996  -77.4906      8019                       Retail buyer 1928-06-26   \n",
       "4997  -83.9585      2089          Building control surveyor 1963-06-22   \n",
       "4998  -75.1866       165                    Naval architect 1945-09-20   \n",
       "4999  -95.3288   2906700                           Animator 1983-08-24   \n",
       "\n",
       "                             trans_num   unix_time  merch_lat  merch_long  \\\n",
       "0     0b242abb623afc578575680df30655b9  1325376018  36.011293  -82.048315   \n",
       "1     1f76529f8574734946361c461b024d99  1325376044  49.159047 -118.186462   \n",
       "2     a1a22d70485983eac12b5b88dad1cf95  1325376051  43.150704 -112.154481   \n",
       "3     6b849c168bdad6f867558c3793159a81  1325376076  47.034331 -112.561071   \n",
       "4     a41d7549acf90789359a9aa5346dcb46  1325376186  38.674999  -78.632459   \n",
       "...                                ...         ...        ...         ...   \n",
       "4995  44827746427d28ce90c337b84cdad67c  1325653789  40.438221  -83.485925   \n",
       "4996  51669b87249060cc80b9af943c9869af  1325653953  42.415407  -78.158282   \n",
       "4997  eb74899e4d7095d2445ac4e4eb6ae473  1325654003  40.958936  -84.629338   \n",
       "4998  eaf4f0819ce9a160401c14d462b942bf  1325654086  43.269532  -76.124026   \n",
       "4999  c32f5657aa1de8c4223187aa07719b34  1325654154  30.581495  -95.989099   \n",
       "\n",
       "      is_fraud  Data_FLAG  \n",
       "0            0   TRAINING  \n",
       "1            0   TRAINING  \n",
       "2            0   TRAINING  \n",
       "3            0   TRAINING  \n",
       "4            0   TRAINING  \n",
       "...        ...        ...  \n",
       "4995         0   TRAINING  \n",
       "4996         0   TRAINING  \n",
       "4997         0   TRAINING  \n",
       "4998         0   TRAINING  \n",
       "4999         0   TRAINING  \n",
       "\n",
       "[5000 rows x 23 columns]"
      ]
     },
     "execution_count": 8,
     "metadata": {},
     "output_type": "execute_result"
    }
   ],
   "source": [
    "Fraud"
   ]
  },
  {
   "cell_type": "code",
   "execution_count": 10,
   "id": "cd3124c0",
   "metadata": {},
   "outputs": [
    {
     "data": {
      "text/plain": [
       "trans_date_trans_time    0\n",
       "cc_num                   0\n",
       "merchant                 0\n",
       "category                 0\n",
       "amt                      0\n",
       "first                    0\n",
       "last                     0\n",
       "gender                   0\n",
       "street                   0\n",
       "city                     0\n",
       "state                    0\n",
       "zip                      0\n",
       "lat                      0\n",
       "long                     0\n",
       "city_pop                 0\n",
       "job                      0\n",
       "dob                      0\n",
       "trans_num                0\n",
       "unix_time                0\n",
       "merch_lat                0\n",
       "merch_long               0\n",
       "is_fraud                 0\n",
       "Data_FLAG                0\n",
       "dtype: int64"
      ]
     },
     "execution_count": 10,
     "metadata": {},
     "output_type": "execute_result"
    }
   ],
   "source": [
    "Fraud.isnull().sum()"
   ]
  },
  {
   "cell_type": "code",
   "execution_count": 122,
   "id": "15a639bd",
   "metadata": {},
   "outputs": [
    {
     "name": "stdout",
     "output_type": "stream",
     "text": [
      "<class 'pandas.core.frame.DataFrame'>\n",
      "RangeIndex: 5000 entries, 0 to 4999\n",
      "Data columns (total 23 columns):\n",
      " #   Column                 Non-Null Count  Dtype  \n",
      "---  ------                 --------------  -----  \n",
      " 0   trans_date_trans_time  5000 non-null   int64  \n",
      " 1   cc_num                 5000 non-null   int64  \n",
      " 2   merchant               5000 non-null   int32  \n",
      " 3   category               5000 non-null   int64  \n",
      " 4   amt                    5000 non-null   float64\n",
      " 5   first                  5000 non-null   int32  \n",
      " 6   last                   5000 non-null   int64  \n",
      " 7   gender                 5000 non-null   int32  \n",
      " 8   street                 5000 non-null   int32  \n",
      " 9   city                   5000 non-null   int32  \n",
      " 10  state                  5000 non-null   int32  \n",
      " 11  zip                    5000 non-null   int64  \n",
      " 12  lat                    5000 non-null   float64\n",
      " 13  long                   5000 non-null   float64\n",
      " 14  city_pop               5000 non-null   float64\n",
      " 15  job                    5000 non-null   int32  \n",
      " 16  dob                    5000 non-null   int64  \n",
      " 17  trans_num              5000 non-null   int32  \n",
      " 18  unix_time              5000 non-null   int64  \n",
      " 19  merch_lat              5000 non-null   float64\n",
      " 20  merch_long             5000 non-null   float64\n",
      " 21  is_fraud               5000 non-null   int64  \n",
      " 22  Data_FLAG              5000 non-null   int32  \n",
      "dtypes: float64(6), int32(9), int64(8)\n",
      "memory usage: 722.8 KB\n"
     ]
    }
   ],
   "source": [
    "Fraud.info()"
   ]
  },
  {
   "cell_type": "code",
   "execution_count": 7,
   "id": "1bba8578",
   "metadata": {},
   "outputs": [
    {
     "data": {
      "text/plain": [
       "Index(['trans_date_trans_time', 'cc_num', 'merchant', 'category', 'amt',\n",
       "       'first', 'last', 'gender', 'street', 'city', 'state', 'zip', 'lat',\n",
       "       'long', 'city_pop', 'job', 'dob', 'trans_num', 'unix_time', 'merch_lat',\n",
       "       'merch_long', 'is_fraud', 'Data_FLAG'],\n",
       "      dtype='object')"
      ]
     },
     "execution_count": 7,
     "metadata": {},
     "output_type": "execute_result"
    }
   ],
   "source": [
    "Fraud.columns"
   ]
  },
  {
   "cell_type": "code",
   "execution_count": 12,
   "id": "186de199",
   "metadata": {},
   "outputs": [],
   "source": [
    "#Encoding and transcribing of the catigorical column\n",
    "from sklearn.preprocessing import LabelEncoder"
   ]
  },
  {
   "cell_type": "code",
   "execution_count": 14,
   "id": "6a1f0831",
   "metadata": {},
   "outputs": [],
   "source": [
    "#creating an object from the Label Encoding class\n",
    "Le = LabelEncoder()\n",
    "Fraud[\"merchant\"] = Le.fit_transform(Fraud[\"merchant\"])"
   ]
  },
  {
   "cell_type": "code",
   "execution_count": 17,
   "id": "d8890f4f",
   "metadata": {},
   "outputs": [],
   "source": [
    "Fraud['category'] = Le.fit_transform(Fraud['category'])"
   ]
  },
  {
   "cell_type": "code",
   "execution_count": 18,
   "id": "35851bd4",
   "metadata": {},
   "outputs": [],
   "source": [
    "Fraud['first'] = Le.fit_transform(Fraud['first'])"
   ]
  },
  {
   "cell_type": "code",
   "execution_count": 20,
   "id": "ac1a6938",
   "metadata": {},
   "outputs": [],
   "source": [
    "Fraud['last'] = Le.fit_transform(Fraud['last'])"
   ]
  },
  {
   "cell_type": "code",
   "execution_count": 21,
   "id": "6c33b524",
   "metadata": {},
   "outputs": [],
   "source": [
    "Fraud['gender'] = Le.fit_transform(Fraud['gender'])"
   ]
  },
  {
   "cell_type": "code",
   "execution_count": 22,
   "id": "77450a2a",
   "metadata": {},
   "outputs": [],
   "source": [
    "Fraud['street'] = Le.fit_transform(Fraud['street'])"
   ]
  },
  {
   "cell_type": "code",
   "execution_count": 23,
   "id": "fbaa9720",
   "metadata": {},
   "outputs": [],
   "source": [
    "Fraud['city'] = Le.fit_transform(Fraud['city'])"
   ]
  },
  {
   "cell_type": "code",
   "execution_count": 24,
   "id": "7ef339f0",
   "metadata": {},
   "outputs": [],
   "source": [
    "Fraud['state'] = Le.fit_transform(Fraud['state'])"
   ]
  },
  {
   "cell_type": "code",
   "execution_count": 25,
   "id": "07d353de",
   "metadata": {},
   "outputs": [],
   "source": [
    "Fraud['job'] = Le.fit_transform(Fraud['job'])"
   ]
  },
  {
   "cell_type": "code",
   "execution_count": 26,
   "id": "f3246cba",
   "metadata": {},
   "outputs": [],
   "source": [
    "Fraud['trans_num'] = Le.fit_transform(Fraud['trans_num'])"
   ]
  },
  {
   "cell_type": "code",
   "execution_count": 27,
   "id": "9f191e2f",
   "metadata": {},
   "outputs": [],
   "source": [
    "Fraud['Data_FLAG'] = Le.fit_transform(Fraud['Data_FLAG'])"
   ]
  },
  {
   "cell_type": "code",
   "execution_count": 28,
   "id": "9fd19fa1",
   "metadata": {},
   "outputs": [],
   "source": [
    "#trans_date_trans_time\n",
    "Fraud['trans_date_trans_time'] = (Fraud['trans_date_trans_time'] - pd.Timestamp(\"1970-01-01\")).dt.days"
   ]
  },
  {
   "cell_type": "code",
   "execution_count": 29,
   "id": "7b256334",
   "metadata": {},
   "outputs": [],
   "source": [
    "Fraud['dob'] = (Fraud['dob'] - pd.Timestamp(\"1970-01-01\")).dt.days"
   ]
  },
  {
   "cell_type": "code",
   "execution_count": 30,
   "id": "2f8c969b",
   "metadata": {},
   "outputs": [
    {
     "data": {
      "text/html": [
       "<div>\n",
       "<style scoped>\n",
       "    .dataframe tbody tr th:only-of-type {\n",
       "        vertical-align: middle;\n",
       "    }\n",
       "\n",
       "    .dataframe tbody tr th {\n",
       "        vertical-align: top;\n",
       "    }\n",
       "\n",
       "    .dataframe thead th {\n",
       "        text-align: right;\n",
       "    }\n",
       "</style>\n",
       "<table border=\"1\" class=\"dataframe\">\n",
       "  <thead>\n",
       "    <tr style=\"text-align: right;\">\n",
       "      <th></th>\n",
       "      <th>trans_date_trans_time</th>\n",
       "      <th>cc_num</th>\n",
       "      <th>merchant</th>\n",
       "      <th>category</th>\n",
       "      <th>amt</th>\n",
       "      <th>first</th>\n",
       "      <th>last</th>\n",
       "      <th>gender</th>\n",
       "      <th>street</th>\n",
       "      <th>city</th>\n",
       "      <th>...</th>\n",
       "      <th>long</th>\n",
       "      <th>city_pop</th>\n",
       "      <th>job</th>\n",
       "      <th>dob</th>\n",
       "      <th>trans_num</th>\n",
       "      <th>unix_time</th>\n",
       "      <th>merch_lat</th>\n",
       "      <th>merch_long</th>\n",
       "      <th>is_fraud</th>\n",
       "      <th>Data_FLAG</th>\n",
       "    </tr>\n",
       "  </thead>\n",
       "  <tbody>\n",
       "    <tr>\n",
       "      <th>0</th>\n",
       "      <td>17897</td>\n",
       "      <td>2703186189652090</td>\n",
       "      <td>513</td>\n",
       "      <td>8</td>\n",
       "      <td>4.97</td>\n",
       "      <td>149</td>\n",
       "      <td>17</td>\n",
       "      <td>0</td>\n",
       "      <td>507</td>\n",
       "      <td>482</td>\n",
       "      <td>...</td>\n",
       "      <td>-81.1781</td>\n",
       "      <td>3495</td>\n",
       "      <td>347</td>\n",
       "      <td>6642</td>\n",
       "      <td>223</td>\n",
       "      <td>1325376018</td>\n",
       "      <td>36.011293</td>\n",
       "      <td>-82.048315</td>\n",
       "      <td>0</td>\n",
       "      <td>0</td>\n",
       "    </tr>\n",
       "    <tr>\n",
       "      <th>1</th>\n",
       "      <td>17897</td>\n",
       "      <td>630423337322</td>\n",
       "      <td>241</td>\n",
       "      <td>4</td>\n",
       "      <td>107.23</td>\n",
       "      <td>285</td>\n",
       "      <td>147</td>\n",
       "      <td>0</td>\n",
       "      <td>394</td>\n",
       "      <td>555</td>\n",
       "      <td>...</td>\n",
       "      <td>-118.2105</td>\n",
       "      <td>149</td>\n",
       "      <td>402</td>\n",
       "      <td>3093</td>\n",
       "      <td>592</td>\n",
       "      <td>1325376044</td>\n",
       "      <td>49.159047</td>\n",
       "      <td>-118.186462</td>\n",
       "      <td>0</td>\n",
       "      <td>0</td>\n",
       "    </tr>\n",
       "    <tr>\n",
       "      <th>2</th>\n",
       "      <td>17897</td>\n",
       "      <td>38859492057661</td>\n",
       "      <td>389</td>\n",
       "      <td>0</td>\n",
       "      <td>220.11</td>\n",
       "      <td>104</td>\n",
       "      <td>361</td>\n",
       "      <td>1</td>\n",
       "      <td>540</td>\n",
       "      <td>429</td>\n",
       "      <td>...</td>\n",
       "      <td>-112.2620</td>\n",
       "      <td>4154</td>\n",
       "      <td>286</td>\n",
       "      <td>-2904</td>\n",
       "      <td>3117</td>\n",
       "      <td>1325376051</td>\n",
       "      <td>43.150704</td>\n",
       "      <td>-112.154481</td>\n",
       "      <td>0</td>\n",
       "      <td>0</td>\n",
       "    </tr>\n",
       "    <tr>\n",
       "      <th>3</th>\n",
       "      <td>17897</td>\n",
       "      <td>3534093764340240</td>\n",
       "      <td>359</td>\n",
       "      <td>2</td>\n",
       "      <td>45.00</td>\n",
       "      <td>150</td>\n",
       "      <td>434</td>\n",
       "      <td>1</td>\n",
       "      <td>828</td>\n",
       "      <td>81</td>\n",
       "      <td>...</td>\n",
       "      <td>-112.1138</td>\n",
       "      <td>1939</td>\n",
       "      <td>307</td>\n",
       "      <td>-1085</td>\n",
       "      <td>2067</td>\n",
       "      <td>1325376076</td>\n",
       "      <td>47.034331</td>\n",
       "      <td>-112.561071</td>\n",
       "      <td>0</td>\n",
       "      <td>0</td>\n",
       "    </tr>\n",
       "    <tr>\n",
       "      <th>4</th>\n",
       "      <td>17897</td>\n",
       "      <td>375534208663984</td>\n",
       "      <td>297</td>\n",
       "      <td>9</td>\n",
       "      <td>41.96</td>\n",
       "      <td>311</td>\n",
       "      <td>139</td>\n",
       "      <td>1</td>\n",
       "      <td>379</td>\n",
       "      <td>202</td>\n",
       "      <td>...</td>\n",
       "      <td>-79.4629</td>\n",
       "      <td>99</td>\n",
       "      <td>105</td>\n",
       "      <td>5930</td>\n",
       "      <td>3164</td>\n",
       "      <td>1325376186</td>\n",
       "      <td>38.674999</td>\n",
       "      <td>-78.632459</td>\n",
       "      <td>0</td>\n",
       "      <td>0</td>\n",
       "    </tr>\n",
       "    <tr>\n",
       "      <th>...</th>\n",
       "      <td>...</td>\n",
       "      <td>...</td>\n",
       "      <td>...</td>\n",
       "      <td>...</td>\n",
       "      <td>...</td>\n",
       "      <td>...</td>\n",
       "      <td>...</td>\n",
       "      <td>...</td>\n",
       "      <td>...</td>\n",
       "      <td>...</td>\n",
       "      <td>...</td>\n",
       "      <td>...</td>\n",
       "      <td>...</td>\n",
       "      <td>...</td>\n",
       "      <td>...</td>\n",
       "      <td>...</td>\n",
       "      <td>...</td>\n",
       "      <td>...</td>\n",
       "      <td>...</td>\n",
       "      <td>...</td>\n",
       "      <td>...</td>\n",
       "    </tr>\n",
       "    <tr>\n",
       "      <th>4995</th>\n",
       "      <td>17900</td>\n",
       "      <td>2235335206132660</td>\n",
       "      <td>399</td>\n",
       "      <td>12</td>\n",
       "      <td>1180.30</td>\n",
       "      <td>212</td>\n",
       "      <td>353</td>\n",
       "      <td>0</td>\n",
       "      <td>594</td>\n",
       "      <td>768</td>\n",
       "      <td>...</td>\n",
       "      <td>-83.9585</td>\n",
       "      <td>2089</td>\n",
       "      <td>46</td>\n",
       "      <td>-2385</td>\n",
       "      <td>1296</td>\n",
       "      <td>1325653789</td>\n",
       "      <td>40.438221</td>\n",
       "      <td>-83.485925</td>\n",
       "      <td>0</td>\n",
       "      <td>0</td>\n",
       "    </tr>\n",
       "    <tr>\n",
       "      <th>4996</th>\n",
       "      <td>17900</td>\n",
       "      <td>375237305371366</td>\n",
       "      <td>183</td>\n",
       "      <td>2</td>\n",
       "      <td>83.47</td>\n",
       "      <td>84</td>\n",
       "      <td>108</td>\n",
       "      <td>1</td>\n",
       "      <td>557</td>\n",
       "      <td>217</td>\n",
       "      <td>...</td>\n",
       "      <td>-77.4906</td>\n",
       "      <td>8019</td>\n",
       "      <td>375</td>\n",
       "      <td>-15164</td>\n",
       "      <td>1548</td>\n",
       "      <td>1325653953</td>\n",
       "      <td>42.415407</td>\n",
       "      <td>-78.158282</td>\n",
       "      <td>0</td>\n",
       "      <td>0</td>\n",
       "    </tr>\n",
       "    <tr>\n",
       "      <th>4997</th>\n",
       "      <td>17900</td>\n",
       "      <td>2235335206132660</td>\n",
       "      <td>477</td>\n",
       "      <td>3</td>\n",
       "      <td>36.64</td>\n",
       "      <td>212</td>\n",
       "      <td>353</td>\n",
       "      <td>0</td>\n",
       "      <td>594</td>\n",
       "      <td>768</td>\n",
       "      <td>...</td>\n",
       "      <td>-83.9585</td>\n",
       "      <td>2089</td>\n",
       "      <td>46</td>\n",
       "      <td>-2385</td>\n",
       "      <td>4593</td>\n",
       "      <td>1325654003</td>\n",
       "      <td>40.958936</td>\n",
       "      <td>-84.629338</td>\n",
       "      <td>0</td>\n",
       "      <td>0</td>\n",
       "    </tr>\n",
       "    <tr>\n",
       "      <th>4998</th>\n",
       "      <td>17900</td>\n",
       "      <td>502012776709</td>\n",
       "      <td>660</td>\n",
       "      <td>8</td>\n",
       "      <td>6.21</td>\n",
       "      <td>279</td>\n",
       "      <td>247</td>\n",
       "      <td>0</td>\n",
       "      <td>121</td>\n",
       "      <td>266</td>\n",
       "      <td>...</td>\n",
       "      <td>-75.1866</td>\n",
       "      <td>165</td>\n",
       "      <td>287</td>\n",
       "      <td>-8869</td>\n",
       "      <td>4577</td>\n",
       "      <td>1325654086</td>\n",
       "      <td>43.269532</td>\n",
       "      <td>-76.124026</td>\n",
       "      <td>0</td>\n",
       "      <td>0</td>\n",
       "    </tr>\n",
       "    <tr>\n",
       "      <th>4999</th>\n",
       "      <td>17900</td>\n",
       "      <td>4010002218955870</td>\n",
       "      <td>562</td>\n",
       "      <td>4</td>\n",
       "      <td>224.88</td>\n",
       "      <td>149</td>\n",
       "      <td>28</td>\n",
       "      <td>0</td>\n",
       "      <td>534</td>\n",
       "      <td>336</td>\n",
       "      <td>...</td>\n",
       "      <td>-95.3288</td>\n",
       "      <td>2906700</td>\n",
       "      <td>23</td>\n",
       "      <td>4983</td>\n",
       "      <td>3787</td>\n",
       "      <td>1325654154</td>\n",
       "      <td>30.581495</td>\n",
       "      <td>-95.989099</td>\n",
       "      <td>0</td>\n",
       "      <td>0</td>\n",
       "    </tr>\n",
       "  </tbody>\n",
       "</table>\n",
       "<p>5000 rows × 23 columns</p>\n",
       "</div>"
      ],
      "text/plain": [
       "      trans_date_trans_time            cc_num  merchant  category      amt  \\\n",
       "0                     17897  2703186189652090       513         8     4.97   \n",
       "1                     17897      630423337322       241         4   107.23   \n",
       "2                     17897    38859492057661       389         0   220.11   \n",
       "3                     17897  3534093764340240       359         2    45.00   \n",
       "4                     17897   375534208663984       297         9    41.96   \n",
       "...                     ...               ...       ...       ...      ...   \n",
       "4995                  17900  2235335206132660       399        12  1180.30   \n",
       "4996                  17900   375237305371366       183         2    83.47   \n",
       "4997                  17900  2235335206132660       477         3    36.64   \n",
       "4998                  17900      502012776709       660         8     6.21   \n",
       "4999                  17900  4010002218955870       562         4   224.88   \n",
       "\n",
       "      first  last  gender  street  city  ...      long  city_pop  job    dob  \\\n",
       "0       149    17       0     507   482  ...  -81.1781      3495  347   6642   \n",
       "1       285   147       0     394   555  ... -118.2105       149  402   3093   \n",
       "2       104   361       1     540   429  ... -112.2620      4154  286  -2904   \n",
       "3       150   434       1     828    81  ... -112.1138      1939  307  -1085   \n",
       "4       311   139       1     379   202  ...  -79.4629        99  105   5930   \n",
       "...     ...   ...     ...     ...   ...  ...       ...       ...  ...    ...   \n",
       "4995    212   353       0     594   768  ...  -83.9585      2089   46  -2385   \n",
       "4996     84   108       1     557   217  ...  -77.4906      8019  375 -15164   \n",
       "4997    212   353       0     594   768  ...  -83.9585      2089   46  -2385   \n",
       "4998    279   247       0     121   266  ...  -75.1866       165  287  -8869   \n",
       "4999    149    28       0     534   336  ...  -95.3288   2906700   23   4983   \n",
       "\n",
       "      trans_num   unix_time  merch_lat  merch_long  is_fraud  Data_FLAG  \n",
       "0           223  1325376018  36.011293  -82.048315         0          0  \n",
       "1           592  1325376044  49.159047 -118.186462         0          0  \n",
       "2          3117  1325376051  43.150704 -112.154481         0          0  \n",
       "3          2067  1325376076  47.034331 -112.561071         0          0  \n",
       "4          3164  1325376186  38.674999  -78.632459         0          0  \n",
       "...         ...         ...        ...         ...       ...        ...  \n",
       "4995       1296  1325653789  40.438221  -83.485925         0          0  \n",
       "4996       1548  1325653953  42.415407  -78.158282         0          0  \n",
       "4997       4593  1325654003  40.958936  -84.629338         0          0  \n",
       "4998       4577  1325654086  43.269532  -76.124026         0          0  \n",
       "4999       3787  1325654154  30.581495  -95.989099         0          0  \n",
       "\n",
       "[5000 rows x 23 columns]"
      ]
     },
     "execution_count": 30,
     "metadata": {},
     "output_type": "execute_result"
    }
   ],
   "source": [
    "Fraud"
   ]
  },
  {
   "cell_type": "code",
   "execution_count": null,
   "id": "23cdf9a8",
   "metadata": {},
   "outputs": [],
   "source": [
    "#Eliminate possible outliers by generating box-whisker plots."
   ]
  },
  {
   "cell_type": "code",
   "execution_count": 33,
   "id": "8a6ee66b",
   "metadata": {},
   "outputs": [
    {
     "data": {
      "text/plain": [
       "60416207185.0"
      ]
     },
     "execution_count": 33,
     "metadata": {},
     "output_type": "execute_result"
    }
   ],
   "source": [
    "lowerLimit = Fraud['cc_num'].quantile(0.00)\n",
    "upperLimit = Fraud['cc_num'].quantile(0.90)\n",
    "lowerLimit"
   ]
  },
  {
   "cell_type": "code",
   "execution_count": 34,
   "id": "ba4de5f1",
   "metadata": {},
   "outputs": [
    {
     "data": {
      "text/plain": [
       "6575412448379496.0"
      ]
     },
     "execution_count": 34,
     "metadata": {},
     "output_type": "execute_result"
    }
   ],
   "source": [
    "upperLimit"
   ]
  },
  {
   "cell_type": "code",
   "execution_count": 39,
   "id": "2295d8c1",
   "metadata": {},
   "outputs": [],
   "source": [
    "Fraud['cc_num'] = Fraud['cc_num'].clip(lowerLimit, upperLimit)"
   ]
  },
  {
   "cell_type": "code",
   "execution_count": 40,
   "id": "472ec5fd",
   "metadata": {},
   "outputs": [
    {
     "data": {
      "text/plain": [
       "<Axes: ylabel='cc_num'>"
      ]
     },
     "execution_count": 40,
     "metadata": {},
     "output_type": "execute_result"
    },
    {
     "data": {
      "image/png": "[encoded data removed]",
      "text/plain": [
       "<Figure size 640x480 with 1 Axes>"
      ]
     },
     "metadata": {},
     "output_type": "display_data"
    }
   ],
   "source": [
    "sns.boxplot(y='cc_num', data=Fraud)"
   ]
  },
  {
   "cell_type": "code",
   "execution_count": 57,
   "id": "b40d72a3",
   "metadata": {},
   "outputs": [
    {
     "data": {
      "text/plain": [
       "1.03"
      ]
     },
     "execution_count": 57,
     "metadata": {},
     "output_type": "execute_result"
    }
   ],
   "source": [
    "lowerLimit = Fraud['amt'].quantile(0.00)\n",
    "upperLimit = Fraud['amt'].quantile(0.94)\n",
    "lowerLimit"
   ]
  },
  {
   "cell_type": "code",
   "execution_count": 58,
   "id": "b01c2213",
   "metadata": {},
   "outputs": [
    {
     "data": {
      "text/plain": [
       "177.13779999999994"
      ]
     },
     "execution_count": 58,
     "metadata": {},
     "output_type": "execute_result"
    }
   ],
   "source": [
    "upperLimit"
   ]
  },
  {
   "cell_type": "code",
   "execution_count": 59,
   "id": "f4831ac6",
   "metadata": {},
   "outputs": [],
   "source": [
    "Fraud['amt'] = Fraud['amt'].clip(lowerLimit, upperLimit)"
   ]
  },
  {
   "cell_type": "code",
   "execution_count": 60,
   "id": "01426ce2",
   "metadata": {},
   "outputs": [
    {
     "data": {
      "text/plain": [
       "<Axes: ylabel='amt'>"
      ]
     },
     "execution_count": 60,
     "metadata": {},
     "output_type": "execute_result"
    },
    {
     "data": {
      "image/png": "[encoded data removed]",
      "text/plain": [
       "<Figure size 640x480 with 1 Axes>"
      ]
     },
     "metadata": {},
     "output_type": "display_data"
    }
   ],
   "source": [
    "sns.boxplot(y='amt', data=Fraud)"
   ]
  },
  {
   "cell_type": "code",
   "execution_count": 63,
   "id": "2ae4087d",
   "metadata": {},
   "outputs": [
    {
     "data": {
      "text/plain": [
       "<Axes: ylabel='zip'>"
      ]
     },
     "execution_count": 63,
     "metadata": {},
     "output_type": "execute_result"
    },
    {
     "data": {
      "image/png": "[encoded data removed]",
      "text/plain": [
       "<Figure size 640x480 with 1 Axes>"
      ]
     },
     "metadata": {},
     "output_type": "display_data"
    }
   ],
   "source": [
    "sns.boxplot(y='zip', data=Fraud)"
   ]
  },
  {
   "cell_type": "code",
   "execution_count": 76,
   "id": "f06b8afc",
   "metadata": {},
   "outputs": [
    {
     "data": {
      "text/plain": [
       "29.9912"
      ]
     },
     "execution_count": 76,
     "metadata": {},
     "output_type": "execute_result"
    }
   ],
   "source": [
    "lowerLimit = Fraud['lat'].quantile(0.05)\n",
    "upperLimit = Fraud['lat'].quantile(0.97)\n",
    "lowerLimit"
   ]
  },
  {
   "cell_type": "code",
   "execution_count": 74,
   "id": "f32d6304",
   "metadata": {},
   "outputs": [
    {
     "data": {
      "text/plain": [
       "47.0999"
      ]
     },
     "execution_count": 74,
     "metadata": {},
     "output_type": "execute_result"
    }
   ],
   "source": [
    "upperLimit"
   ]
  },
  {
   "cell_type": "code",
   "execution_count": 78,
   "id": "70a8b5c5",
   "metadata": {},
   "outputs": [],
   "source": [
    "Fraud['lat'] = Fraud['lat'].clip(lowerLimit, upperLimit)"
   ]
  },
  {
   "cell_type": "code",
   "execution_count": 79,
   "id": "2f93ec57",
   "metadata": {},
   "outputs": [
    {
     "data": {
      "text/plain": [
       "<Axes: ylabel='lat'>"
      ]
     },
     "execution_count": 79,
     "metadata": {},
     "output_type": "execute_result"
    },
    {
     "data": {
      "image/png": "[encoded data removed]",
      "text/plain": [
       "<Figure size 640x480 with 1 Axes>"
      ]
     },
     "metadata": {},
     "output_type": "display_data"
    }
   ],
   "source": [
    "sns.boxplot(y='lat', data=Fraud)"
   ]
  },
  {
   "cell_type": "code",
   "execution_count": 82,
   "id": "64a0e897",
   "metadata": {},
   "outputs": [
    {
     "data": {
      "text/plain": [
       "-120.6763"
      ]
     },
     "execution_count": 82,
     "metadata": {},
     "output_type": "execute_result"
    }
   ],
   "source": [
    "lowerLimit = Fraud['long'].quantile(0.05)\n",
    "upperLimit = Fraud['long'].quantile(0.99)\n",
    "lowerLimit"
   ]
  },
  {
   "cell_type": "code",
   "execution_count": 83,
   "id": "3c05ba1f",
   "metadata": {},
   "outputs": [
    {
     "data": {
      "text/plain": [
       "-70.2389999999999"
      ]
     },
     "execution_count": 83,
     "metadata": {},
     "output_type": "execute_result"
    }
   ],
   "source": [
    "upperLimit"
   ]
  },
  {
   "cell_type": "code",
   "execution_count": 84,
   "id": "69e96ab4",
   "metadata": {},
   "outputs": [],
   "source": [
    "Fraud['long'] = Fraud['long'].clip(lowerLimit, upperLimit)"
   ]
  },
  {
   "cell_type": "code",
   "execution_count": 86,
   "id": "2516a9ef",
   "metadata": {},
   "outputs": [
    {
     "data": {
      "text/plain": [
       "<Axes: ylabel='long'>"
      ]
     },
     "execution_count": 86,
     "metadata": {},
     "output_type": "execute_result"
    },
    {
     "data": {
      "image/png": "[encoded data removed]",
      "text/plain": [
       "<Figure size 640x480 with 1 Axes>"
      ]
     },
     "metadata": {},
     "output_type": "display_data"
    }
   ],
   "source": [
    "sns.boxplot(y='long', data=Fraud)"
   ]
  },
  {
   "cell_type": "code",
   "execution_count": 111,
   "id": "c599b315",
   "metadata": {},
   "outputs": [
    {
     "data": {
      "text/plain": [
       "149.0"
      ]
     },
     "execution_count": 111,
     "metadata": {},
     "output_type": "execute_result"
    }
   ],
   "source": [
    "lowerLimit = Fraud['city_pop'].quantile(0.05)\n",
    "upperLimit = Fraud['city_pop'].quantile(0.77)\n",
    "lowerLimit"
   ]
  },
  {
   "cell_type": "code",
   "execution_count": 112,
   "id": "97122aa6",
   "metadata": {},
   "outputs": [
    {
     "data": {
      "text/plain": [
       "24840.0"
      ]
     },
     "execution_count": 112,
     "metadata": {},
     "output_type": "execute_result"
    }
   ],
   "source": [
    "upperLimit"
   ]
  },
  {
   "cell_type": "code",
   "execution_count": 113,
   "id": "b1cfe859",
   "metadata": {},
   "outputs": [],
   "source": [
    "Fraud['city_pop'] = Fraud['city_pop'].clip(lowerLimit, upperLimit)"
   ]
  },
  {
   "cell_type": "code",
   "execution_count": 114,
   "id": "f6f2cdc6",
   "metadata": {},
   "outputs": [
    {
     "data": {
      "text/plain": [
       "<Axes: ylabel='city_pop'>"
      ]
     },
     "execution_count": 114,
     "metadata": {},
     "output_type": "execute_result"
    },
    {
     "data": {
      "image/png": "[encoded data removed]",
      "text/plain": [
       "<Figure size 640x480 with 1 Axes>"
      ]
     },
     "metadata": {},
     "output_type": "display_data"
    }
   ],
   "source": [
    "sns.boxplot(y='city_pop', data=Fraud)"
   ]
  },
  {
   "cell_type": "code",
   "execution_count": 115,
   "id": "447ab779",
   "metadata": {},
   "outputs": [
    {
     "data": {
      "text/plain": [
       "<Axes: ylabel='unix_time'>"
      ]
     },
     "execution_count": 115,
     "metadata": {},
     "output_type": "execute_result"
    },
    {
     "data": {
      "image/png": "[encoded data removed]",
      "text/plain": [
       "<Figure size 640x480 with 1 Axes>"
      ]
     },
     "metadata": {},
     "output_type": "display_data"
    }
   ],
   "source": [
    "sns.boxplot(y='unix_time', data=Fraud)"
   ]
  },
  {
   "cell_type": "code",
   "execution_count": 117,
   "id": "10bc11e4",
   "metadata": {},
   "outputs": [
    {
     "data": {
      "text/plain": [
       "29.7787498"
      ]
     },
     "execution_count": 117,
     "metadata": {},
     "output_type": "execute_result"
    }
   ],
   "source": [
    "lowerLimit = Fraud['merch_lat'].quantile(0.05)\n",
    "upperLimit = Fraud['merch_lat'].quantile(0.99)\n",
    "lowerLimit"
   ]
  },
  {
   "cell_type": "code",
   "execution_count": 119,
   "id": "8d7ccbce",
   "metadata": {},
   "outputs": [
    {
     "data": {
      "text/plain": [
       "48.83391390000001"
      ]
     },
     "execution_count": 119,
     "metadata": {},
     "output_type": "execute_result"
    }
   ],
   "source": [
    "upperLimit"
   ]
  },
  {
   "cell_type": "code",
   "execution_count": 120,
   "id": "3fb92590",
   "metadata": {},
   "outputs": [],
   "source": [
    "Fraud['merch_lat'] = Fraud['merch_lat'].clip(lowerLimit, upperLimit)"
   ]
  },
  {
   "cell_type": "code",
   "execution_count": 121,
   "id": "04febb77",
   "metadata": {},
   "outputs": [
    {
     "data": {
      "text/plain": [
       "<Axes: ylabel='merch_lat'>"
      ]
     },
     "execution_count": 121,
     "metadata": {},
     "output_type": "execute_result"
    },
    {
     "data": {
      "image/png": "[encoded data removed]",
      "text/plain": [
       "<Figure size 640x480 with 1 Axes>"
      ]
     },
     "metadata": {},
     "output_type": "display_data"
    }
   ],
   "source": [
    "sns.boxplot(y='merch_lat', data=Fraud)"
   ]
  },
  {
   "cell_type": "code",
   "execution_count": 133,
   "id": "1b8beccb",
   "metadata": {},
   "outputs": [
    {
     "data": {
      "text/plain": [
       "-120.8107016"
      ]
     },
     "execution_count": 133,
     "metadata": {},
     "output_type": "execute_result"
    }
   ],
   "source": [
    "lowerLimit = Fraud['merch_long'].quantile(0.05)\n",
    "upperLimit = Fraud['merch_long'].quantile(0.99)\n",
    "lowerLimit"
   ]
  },
  {
   "cell_type": "code",
   "execution_count": 134,
   "id": "f9f51930",
   "metadata": {},
   "outputs": [
    {
     "data": {
      "text/plain": [
       "-70.12177091"
      ]
     },
     "execution_count": 134,
     "metadata": {},
     "output_type": "execute_result"
    }
   ],
   "source": [
    "upperLimit"
   ]
  },
  {
   "cell_type": "code",
   "execution_count": 137,
   "id": "9583d008",
   "metadata": {},
   "outputs": [],
   "source": [
    "Fraud['merch_long'] = Fraud['merch_long'].clip(lowerLimit, upperLimit)"
   ]
  },
  {
   "cell_type": "code",
   "execution_count": 138,
   "id": "e9c98364",
   "metadata": {},
   "outputs": [
    {
     "data": {
      "text/plain": [
       "<Axes: ylabel='merch_long'>"
      ]
     },
     "execution_count": 138,
     "metadata": {},
     "output_type": "execute_result"
    },
    {
     "data": {
      "image/png": "[encoded data removed]",
      "text/plain": [
       "<Figure size 640x480 with 1 Axes>"
      ]
     },
     "metadata": {},
     "output_type": "display_data"
    }
   ],
   "source": [
    "sns.boxplot(y='merch_long', data=Fraud)"
   ]
  },
  {
   "cell_type": "code",
   "execution_count": 139,
   "id": "a3abcf56",
   "metadata": {},
   "outputs": [],
   "source": [
    "X = Fraud[['trans_date_trans_time', 'cc_num', 'merchant', 'category', 'amt',\n",
    "       'first', 'last', 'gender', 'street', 'city', 'state', 'zip', 'lat',\n",
    "       'long', 'city_pop', 'job', 'dob', 'trans_num', 'unix_time', 'merch_lat',\n",
    "       'merch_long']].values\n"
   ]
  },
  {
   "cell_type": "code",
   "execution_count": 142,
   "id": "3f9e5893",
   "metadata": {},
   "outputs": [],
   "source": [
    "Y= Fraud['is_fraud']. values"
   ]
  },
  {
   "cell_type": "code",
   "execution_count": 144,
   "id": "2e82e904",
   "metadata": {},
   "outputs": [],
   "source": [
    "from sklearn.svm import LinearSVC"
   ]
  },
  {
   "cell_type": "code",
   "execution_count": 147,
   "id": "ac383ea5",
   "metadata": {},
   "outputs": [],
   "source": [
    "#Then we create our model object from the SVC class\n",
    "model = LinearSVC()"
   ]
  },
  {
   "cell_type": "code",
   "execution_count": 148,
   "id": "443517ca",
   "metadata": {},
   "outputs": [
    {
     "name": "stderr",
     "output_type": "stream",
     "text": [
      "C:\\Users\\visit\\anaconda3\\Lib\\site-packages\\sklearn\\svm\\_classes.py:32: FutureWarning: The default value of `dual` will change from `True` to `'auto'` in 1.5. Set the value of `dual` explicitly to suppress the warning.\n",
      "  warnings.warn(\n",
      "C:\\Users\\visit\\anaconda3\\Lib\\site-packages\\sklearn\\svm\\_base.py:1242: ConvergenceWarning: Liblinear failed to converge, increase the number of iterations.\n",
      "  warnings.warn(\n"
     ]
    },
    {
     "data": {
      "text/html": [
       "<style>#sk-container-id-1 {color: black;}#sk-container-id-1 pre{padding: 0;}#sk-container-id-1 div.sk-toggleable {background-color: white;}#sk-container-id-1 label.sk-toggleable__label {cursor: pointer;display: block;width: 100%;margin-bottom: 0;padding: 0.3em;box-sizing: border-box;text-align: center;}#sk-container-id-1 label.sk-toggleable__label-arrow:before {content: \"▸\";float: left;margin-right: 0.25em;color: #696969;}#sk-container-id-1 label.sk-toggleable__label-arrow:hover:before {color: black;}#sk-container-id-1 div.sk-estimator:hover label.sk-toggleable__label-arrow:before {color: black;}#sk-container-id-1 div.sk-toggleable__content {max-height: 0;max-width: 0;overflow: hidden;text-align: left;background-color: #f0f8ff;}#sk-container-id-1 div.sk-toggleable__content pre {margin: 0.2em;color: black;border-radius: 0.25em;background-color: #f0f8ff;}#sk-container-id-1 input.sk-toggleable__control:checked~div.sk-toggleable__content {max-height: 200px;max-width: 100%;overflow: auto;}#sk-container-id-1 input.sk-toggleable__control:checked~label.sk-toggleable__label-arrow:before {content: \"▾\";}#sk-container-id-1 div.sk-estimator input.sk-toggleable__control:checked~label.sk-toggleable__label {background-color: #d4ebff;}#sk-container-id-1 div.sk-label input.sk-toggleable__control:checked~label.sk-toggleable__label {background-color: #d4ebff;}#sk-container-id-1 input.sk-hidden--visually {border: 0;clip: rect(1px 1px 1px 1px);clip: rect(1px, 1px, 1px, 1px);height: 1px;margin: -1px;overflow: hidden;padding: 0;position: absolute;width: 1px;}#sk-container-id-1 div.sk-estimator {font-family: monospace;background-color: #f0f8ff;border: 1px dotted black;border-radius: 0.25em;box-sizing: border-box;margin-bottom: 0.5em;}#sk-container-id-1 div.sk-estimator:hover {background-color: #d4ebff;}#sk-container-id-1 div.sk-parallel-item::after {content: \"\";width: 100%;border-bottom: 1px solid gray;flex-grow: 1;}#sk-container-id-1 div.sk-label:hover label.sk-toggleable__label {background-color: #d4ebff;}#sk-container-id-1 div.sk-serial::before {content: \"\";position: absolute;border-left: 1px solid gray;box-sizing: border-box;top: 0;bottom: 0;left: 50%;z-index: 0;}#sk-container-id-1 div.sk-serial {display: flex;flex-direction: column;align-items: center;background-color: white;padding-right: 0.2em;padding-left: 0.2em;position: relative;}#sk-container-id-1 div.sk-item {position: relative;z-index: 1;}#sk-container-id-1 div.sk-parallel {display: flex;align-items: stretch;justify-content: center;background-color: white;position: relative;}#sk-container-id-1 div.sk-item::before, #sk-container-id-1 div.sk-parallel-item::before {content: \"\";position: absolute;border-left: 1px solid gray;box-sizing: border-box;top: 0;bottom: 0;left: 50%;z-index: -1;}#sk-container-id-1 div.sk-parallel-item {display: flex;flex-direction: column;z-index: 1;position: relative;background-color: white;}#sk-container-id-1 div.sk-parallel-item:first-child::after {align-self: flex-end;width: 50%;}#sk-container-id-1 div.sk-parallel-item:last-child::after {align-self: flex-start;width: 50%;}#sk-container-id-1 div.sk-parallel-item:only-child::after {width: 0;}#sk-container-id-1 div.sk-dashed-wrapped {border: 1px dashed gray;margin: 0 0.4em 0.5em 0.4em;box-sizing: border-box;padding-bottom: 0.4em;background-color: white;}#sk-container-id-1 div.sk-label label {font-family: monospace;font-weight: bold;display: inline-block;line-height: 1.2em;}#sk-container-id-1 div.sk-label-container {text-align: center;}#sk-container-id-1 div.sk-container {/* jupyter's `normalize.less` sets `[hidden] { display: none; }` but bootstrap.min.css set `[hidden] { display: none !important; }` so we also need the `!important` here to be able to override the default hidden behavior on the sphinx rendered scikit-learn.org. See: https://github.com/scikit-learn/scikit-learn/issues/21755 */display: inline-block !important;position: relative;}#sk-container-id-1 div.sk-text-repr-fallback {display: none;}</style><div id=\"sk-container-id-1\" class=\"sk-top-container\"><div class=\"sk-text-repr-fallback\"><pre>LinearSVC()</pre><b>In a Jupyter environment, please rerun this cell to show the HTML representation or trust the notebook. <br />On GitHub, the HTML representation is unable to render, please try loading this page with nbviewer.org.</b></div><div class=\"sk-container\" hidden><div class=\"sk-item\"><div class=\"sk-estimator sk-toggleable\"><input class=\"sk-toggleable__control sk-hidden--visually\" id=\"sk-estimator-id-1\" type=\"checkbox\" checked><label for=\"sk-estimator-id-1\" class=\"sk-toggleable__label sk-toggleable__label-arrow\">LinearSVC</label><div class=\"sk-toggleable__content\"><pre>LinearSVC()</pre></div></div></div></div></div>"
      ],
      "text/plain": [
       "LinearSVC()"
      ]
     },
     "execution_count": 148,
     "metadata": {},
     "output_type": "execute_result"
    }
   ],
   "source": [
    "#We train our model with the dataset below\n",
    "\n",
    "model.fit(X,Y)"
   ]
  },
  {
   "cell_type": "code",
   "execution_count": 149,
   "id": "3e2a8ac5",
   "metadata": {},
   "outputs": [
    {
     "data": {
      "text/html": [
       "<div>\n",
       "<style scoped>\n",
       "    .dataframe tbody tr th:only-of-type {\n",
       "        vertical-align: middle;\n",
       "    }\n",
       "\n",
       "    .dataframe tbody tr th {\n",
       "        vertical-align: top;\n",
       "    }\n",
       "\n",
       "    .dataframe thead th {\n",
       "        text-align: right;\n",
       "    }\n",
       "</style>\n",
       "<table border=\"1\" class=\"dataframe\">\n",
       "  <thead>\n",
       "    <tr style=\"text-align: right;\">\n",
       "      <th></th>\n",
       "      <th>trans_date_trans_time</th>\n",
       "      <th>cc_num</th>\n",
       "      <th>merchant</th>\n",
       "      <th>category</th>\n",
       "      <th>amt</th>\n",
       "      <th>first</th>\n",
       "      <th>last</th>\n",
       "      <th>gender</th>\n",
       "      <th>street</th>\n",
       "      <th>city</th>\n",
       "      <th>...</th>\n",
       "      <th>long</th>\n",
       "      <th>city_pop</th>\n",
       "      <th>job</th>\n",
       "      <th>dob</th>\n",
       "      <th>trans_num</th>\n",
       "      <th>unix_time</th>\n",
       "      <th>merch_lat</th>\n",
       "      <th>merch_long</th>\n",
       "      <th>is_fraud</th>\n",
       "      <th>Data_FLAG</th>\n",
       "    </tr>\n",
       "  </thead>\n",
       "  <tbody>\n",
       "    <tr>\n",
       "      <th>0</th>\n",
       "      <td>2020-06-21 12:14:25</td>\n",
       "      <td>2291163933867240</td>\n",
       "      <td>fraud_Kirlin and Sons</td>\n",
       "      <td>personal_care</td>\n",
       "      <td>2.86</td>\n",
       "      <td>Jeff</td>\n",
       "      <td>Elliott</td>\n",
       "      <td>M</td>\n",
       "      <td>351 Darlene Green</td>\n",
       "      <td>Columbia</td>\n",
       "      <td>...</td>\n",
       "      <td>-80.9355</td>\n",
       "      <td>333497</td>\n",
       "      <td>Mechanical engineer</td>\n",
       "      <td>1968-03-19</td>\n",
       "      <td>2da90c7d74bd46a0caf3777415b3ebd3</td>\n",
       "      <td>1371816865</td>\n",
       "      <td>33.986391</td>\n",
       "      <td>-81.200714</td>\n",
       "      <td>0</td>\n",
       "      <td>TESTING</td>\n",
       "    </tr>\n",
       "    <tr>\n",
       "      <th>1</th>\n",
       "      <td>2020-06-21 12:14:33</td>\n",
       "      <td>3573030041201290</td>\n",
       "      <td>fraud_Sporer-Keebler</td>\n",
       "      <td>personal_care</td>\n",
       "      <td>29.84</td>\n",
       "      <td>Joanne</td>\n",
       "      <td>Williams</td>\n",
       "      <td>F</td>\n",
       "      <td>3638 Marsh Union</td>\n",
       "      <td>Altonah</td>\n",
       "      <td>...</td>\n",
       "      <td>-110.4360</td>\n",
       "      <td>302</td>\n",
       "      <td>Sales professional, IT</td>\n",
       "      <td>1990-01-17</td>\n",
       "      <td>324cc204407e99f51b0d6ca0055005e7</td>\n",
       "      <td>1371816873</td>\n",
       "      <td>39.450498</td>\n",
       "      <td>-109.960431</td>\n",
       "      <td>0</td>\n",
       "      <td>TESTING</td>\n",
       "    </tr>\n",
       "    <tr>\n",
       "      <th>2</th>\n",
       "      <td>2020-06-21 12:14:53</td>\n",
       "      <td>3598215285024750</td>\n",
       "      <td>fraud_Swaniawski, Nitzsche and Welch</td>\n",
       "      <td>health_fitness</td>\n",
       "      <td>41.28</td>\n",
       "      <td>Ashley</td>\n",
       "      <td>Lopez</td>\n",
       "      <td>F</td>\n",
       "      <td>9333 Valentine Point</td>\n",
       "      <td>Bellmore</td>\n",
       "      <td>...</td>\n",
       "      <td>-73.5365</td>\n",
       "      <td>34496</td>\n",
       "      <td>Librarian, public</td>\n",
       "      <td>1970-10-21</td>\n",
       "      <td>c81755dbbbea9d5c77f094348a7579be</td>\n",
       "      <td>1371816893</td>\n",
       "      <td>40.495810</td>\n",
       "      <td>-74.196111</td>\n",
       "      <td>0</td>\n",
       "      <td>TESTING</td>\n",
       "    </tr>\n",
       "    <tr>\n",
       "      <th>3</th>\n",
       "      <td>2020-06-21 12:15:15</td>\n",
       "      <td>3591919803438420</td>\n",
       "      <td>fraud_Haley Group</td>\n",
       "      <td>misc_pos</td>\n",
       "      <td>60.05</td>\n",
       "      <td>Brian</td>\n",
       "      <td>Williams</td>\n",
       "      <td>M</td>\n",
       "      <td>32941 Krystal Mill Apt. 552</td>\n",
       "      <td>Titusville</td>\n",
       "      <td>...</td>\n",
       "      <td>-80.8191</td>\n",
       "      <td>54767</td>\n",
       "      <td>Set designer</td>\n",
       "      <td>1987-07-25</td>\n",
       "      <td>2159175b9efe66dc301f149d3d5abf8c</td>\n",
       "      <td>1371816915</td>\n",
       "      <td>28.812398</td>\n",
       "      <td>-80.883061</td>\n",
       "      <td>0</td>\n",
       "      <td>TESTING</td>\n",
       "    </tr>\n",
       "    <tr>\n",
       "      <th>4</th>\n",
       "      <td>2020-06-21 12:15:17</td>\n",
       "      <td>3526826139003040</td>\n",
       "      <td>fraud_Johnston-Casper</td>\n",
       "      <td>travel</td>\n",
       "      <td>3.19</td>\n",
       "      <td>Nathan</td>\n",
       "      <td>Massey</td>\n",
       "      <td>M</td>\n",
       "      <td>5783 Evan Roads Apt. 465</td>\n",
       "      <td>Falmouth</td>\n",
       "      <td>...</td>\n",
       "      <td>-85.0170</td>\n",
       "      <td>1126</td>\n",
       "      <td>Furniture designer</td>\n",
       "      <td>1955-07-06</td>\n",
       "      <td>57ff021bd3f328f8738bb535c302a31b</td>\n",
       "      <td>1371816917</td>\n",
       "      <td>44.959148</td>\n",
       "      <td>-85.884734</td>\n",
       "      <td>0</td>\n",
       "      <td>TESTING</td>\n",
       "    </tr>\n",
       "    <tr>\n",
       "      <th>...</th>\n",
       "      <td>...</td>\n",
       "      <td>...</td>\n",
       "      <td>...</td>\n",
       "      <td>...</td>\n",
       "      <td>...</td>\n",
       "      <td>...</td>\n",
       "      <td>...</td>\n",
       "      <td>...</td>\n",
       "      <td>...</td>\n",
       "      <td>...</td>\n",
       "      <td>...</td>\n",
       "      <td>...</td>\n",
       "      <td>...</td>\n",
       "      <td>...</td>\n",
       "      <td>...</td>\n",
       "      <td>...</td>\n",
       "      <td>...</td>\n",
       "      <td>...</td>\n",
       "      <td>...</td>\n",
       "      <td>...</td>\n",
       "      <td>...</td>\n",
       "    </tr>\n",
       "    <tr>\n",
       "      <th>1994</th>\n",
       "      <td>2020-06-21 23:49:13</td>\n",
       "      <td>676369110710</td>\n",
       "      <td>fraud_Waelchi Inc</td>\n",
       "      <td>kids_pets</td>\n",
       "      <td>20.42</td>\n",
       "      <td>David</td>\n",
       "      <td>Wolfe</td>\n",
       "      <td>M</td>\n",
       "      <td>81261 Garcia Underpass Suite 741</td>\n",
       "      <td>Southfield</td>\n",
       "      <td>...</td>\n",
       "      <td>-83.2911</td>\n",
       "      <td>75830</td>\n",
       "      <td>Engineer, automotive</td>\n",
       "      <td>1974-12-28</td>\n",
       "      <td>3cb1772c9cd885d1a6f747d1e6c952fb</td>\n",
       "      <td>1371858553</td>\n",
       "      <td>42.443288</td>\n",
       "      <td>-83.600238</td>\n",
       "      <td>0</td>\n",
       "      <td>TESTING</td>\n",
       "    </tr>\n",
       "    <tr>\n",
       "      <th>1995</th>\n",
       "      <td>2020-06-21 23:49:25</td>\n",
       "      <td>345933964507467</td>\n",
       "      <td>fraud_O'Hara-Wilderman</td>\n",
       "      <td>food_dining</td>\n",
       "      <td>2.64</td>\n",
       "      <td>Carol</td>\n",
       "      <td>Dillon</td>\n",
       "      <td>F</td>\n",
       "      <td>27479 Reeves Dale</td>\n",
       "      <td>Whaleyville</td>\n",
       "      <td>...</td>\n",
       "      <td>-75.2811</td>\n",
       "      <td>718</td>\n",
       "      <td>Regulatory affairs officer</td>\n",
       "      <td>1985-03-19</td>\n",
       "      <td>db9609979b2c8c9af5c60a02448895ac</td>\n",
       "      <td>1371858565</td>\n",
       "      <td>38.579881</td>\n",
       "      <td>-74.493330</td>\n",
       "      <td>0</td>\n",
       "      <td>TESTING</td>\n",
       "    </tr>\n",
       "    <tr>\n",
       "      <th>1996</th>\n",
       "      <td>2020-06-21 23:49:36</td>\n",
       "      <td>4607072969078270</td>\n",
       "      <td>fraud_Streich, Rolfson and Wilderman</td>\n",
       "      <td>kids_pets</td>\n",
       "      <td>86.23</td>\n",
       "      <td>Brenda</td>\n",
       "      <td>Perez</td>\n",
       "      <td>F</td>\n",
       "      <td>033 Tara Brook Suite 523</td>\n",
       "      <td>Coyle</td>\n",
       "      <td>...</td>\n",
       "      <td>-97.2607</td>\n",
       "      <td>1493</td>\n",
       "      <td>Amenity horticulturist</td>\n",
       "      <td>1985-03-21</td>\n",
       "      <td>a58c8deeb72c9ee7646c741a58ce7c26</td>\n",
       "      <td>1371858576</td>\n",
       "      <td>35.069578</td>\n",
       "      <td>-97.572451</td>\n",
       "      <td>0</td>\n",
       "      <td>TESTING</td>\n",
       "    </tr>\n",
       "    <tr>\n",
       "      <th>1997</th>\n",
       "      <td>2020-06-21 23:49:49</td>\n",
       "      <td>6011504998544480</td>\n",
       "      <td>fraud_Boehm, Predovic and Reinger</td>\n",
       "      <td>misc_pos</td>\n",
       "      <td>36.13</td>\n",
       "      <td>Ashley</td>\n",
       "      <td>Whitney</td>\n",
       "      <td>F</td>\n",
       "      <td>4038 Smith Avenue</td>\n",
       "      <td>Jones</td>\n",
       "      <td>...</td>\n",
       "      <td>-86.8138</td>\n",
       "      <td>1089</td>\n",
       "      <td>Materials engineer</td>\n",
       "      <td>1971-11-02</td>\n",
       "      <td>9fbee0d9611b6a85b824bdfd1b3acd13</td>\n",
       "      <td>1371858589</td>\n",
       "      <td>33.010868</td>\n",
       "      <td>-86.798841</td>\n",
       "      <td>0</td>\n",
       "      <td>TESTING</td>\n",
       "    </tr>\n",
       "    <tr>\n",
       "      <th>1998</th>\n",
       "      <td>2020-06-21 23:49:58</td>\n",
       "      <td>374656033243756</td>\n",
       "      <td>fraud_Hickle Group</td>\n",
       "      <td>shopping_pos</td>\n",
       "      <td>3.32</td>\n",
       "      <td>David</td>\n",
       "      <td>Lewis</td>\n",
       "      <td>M</td>\n",
       "      <td>1499 Michael Rue</td>\n",
       "      <td>Arlington</td>\n",
       "      <td>...</td>\n",
       "      <td>-77.1633</td>\n",
       "      <td>207410</td>\n",
       "      <td>Mudlogger</td>\n",
       "      <td>1984-07-03</td>\n",
       "      <td>ac50f5323801477384fc7a129736c99c</td>\n",
       "      <td>1371858598</td>\n",
       "      <td>38.787164</td>\n",
       "      <td>-77.216642</td>\n",
       "      <td>0</td>\n",
       "      <td>TESTING</td>\n",
       "    </tr>\n",
       "  </tbody>\n",
       "</table>\n",
       "<p>1999 rows × 23 columns</p>\n",
       "</div>"
      ],
      "text/plain": [
       "     trans_date_trans_time            cc_num  \\\n",
       "0      2020-06-21 12:14:25  2291163933867240   \n",
       "1      2020-06-21 12:14:33  3573030041201290   \n",
       "2      2020-06-21 12:14:53  3598215285024750   \n",
       "3      2020-06-21 12:15:15  3591919803438420   \n",
       "4      2020-06-21 12:15:17  3526826139003040   \n",
       "...                    ...               ...   \n",
       "1994   2020-06-21 23:49:13      676369110710   \n",
       "1995   2020-06-21 23:49:25   345933964507467   \n",
       "1996   2020-06-21 23:49:36  4607072969078270   \n",
       "1997   2020-06-21 23:49:49  6011504998544480   \n",
       "1998   2020-06-21 23:49:58   374656033243756   \n",
       "\n",
       "                                  merchant        category    amt   first  \\\n",
       "0                    fraud_Kirlin and Sons   personal_care   2.86    Jeff   \n",
       "1                     fraud_Sporer-Keebler   personal_care  29.84  Joanne   \n",
       "2     fraud_Swaniawski, Nitzsche and Welch  health_fitness  41.28  Ashley   \n",
       "3                        fraud_Haley Group        misc_pos  60.05   Brian   \n",
       "4                    fraud_Johnston-Casper          travel   3.19  Nathan   \n",
       "...                                    ...             ...    ...     ...   \n",
       "1994                     fraud_Waelchi Inc       kids_pets  20.42   David   \n",
       "1995                fraud_O'Hara-Wilderman     food_dining   2.64   Carol   \n",
       "1996  fraud_Streich, Rolfson and Wilderman       kids_pets  86.23  Brenda   \n",
       "1997     fraud_Boehm, Predovic and Reinger        misc_pos  36.13  Ashley   \n",
       "1998                    fraud_Hickle Group    shopping_pos   3.32   David   \n",
       "\n",
       "          last gender                            street         city  ...  \\\n",
       "0      Elliott      M                 351 Darlene Green     Columbia  ...   \n",
       "1     Williams      F                  3638 Marsh Union      Altonah  ...   \n",
       "2        Lopez      F              9333 Valentine Point     Bellmore  ...   \n",
       "3     Williams      M       32941 Krystal Mill Apt. 552   Titusville  ...   \n",
       "4       Massey      M          5783 Evan Roads Apt. 465     Falmouth  ...   \n",
       "...        ...    ...                               ...          ...  ...   \n",
       "1994     Wolfe      M  81261 Garcia Underpass Suite 741   Southfield  ...   \n",
       "1995    Dillon      F                 27479 Reeves Dale  Whaleyville  ...   \n",
       "1996     Perez      F          033 Tara Brook Suite 523        Coyle  ...   \n",
       "1997   Whitney      F                 4038 Smith Avenue        Jones  ...   \n",
       "1998     Lewis      M                  1499 Michael Rue    Arlington  ...   \n",
       "\n",
       "          long  city_pop                         job        dob  \\\n",
       "0     -80.9355    333497         Mechanical engineer 1968-03-19   \n",
       "1    -110.4360       302      Sales professional, IT 1990-01-17   \n",
       "2     -73.5365     34496           Librarian, public 1970-10-21   \n",
       "3     -80.8191     54767                Set designer 1987-07-25   \n",
       "4     -85.0170      1126          Furniture designer 1955-07-06   \n",
       "...        ...       ...                         ...        ...   \n",
       "1994  -83.2911     75830        Engineer, automotive 1974-12-28   \n",
       "1995  -75.2811       718  Regulatory affairs officer 1985-03-19   \n",
       "1996  -97.2607      1493      Amenity horticulturist 1985-03-21   \n",
       "1997  -86.8138      1089          Materials engineer 1971-11-02   \n",
       "1998  -77.1633    207410                   Mudlogger 1984-07-03   \n",
       "\n",
       "                             trans_num   unix_time  merch_lat  merch_long  \\\n",
       "0     2da90c7d74bd46a0caf3777415b3ebd3  1371816865  33.986391  -81.200714   \n",
       "1     324cc204407e99f51b0d6ca0055005e7  1371816873  39.450498 -109.960431   \n",
       "2     c81755dbbbea9d5c77f094348a7579be  1371816893  40.495810  -74.196111   \n",
       "3     2159175b9efe66dc301f149d3d5abf8c  1371816915  28.812398  -80.883061   \n",
       "4     57ff021bd3f328f8738bb535c302a31b  1371816917  44.959148  -85.884734   \n",
       "...                                ...         ...        ...         ...   \n",
       "1994  3cb1772c9cd885d1a6f747d1e6c952fb  1371858553  42.443288  -83.600238   \n",
       "1995  db9609979b2c8c9af5c60a02448895ac  1371858565  38.579881  -74.493330   \n",
       "1996  a58c8deeb72c9ee7646c741a58ce7c26  1371858576  35.069578  -97.572451   \n",
       "1997  9fbee0d9611b6a85b824bdfd1b3acd13  1371858589  33.010868  -86.798841   \n",
       "1998  ac50f5323801477384fc7a129736c99c  1371858598  38.787164  -77.216642   \n",
       "\n",
       "      is_fraud  Data_FLAG  \n",
       "0            0    TESTING  \n",
       "1            0    TESTING  \n",
       "2            0    TESTING  \n",
       "3            0    TESTING  \n",
       "4            0    TESTING  \n",
       "...        ...        ...  \n",
       "1994         0    TESTING  \n",
       "1995         0    TESTING  \n",
       "1996         0    TESTING  \n",
       "1997         0    TESTING  \n",
       "1998         0    TESTING  \n",
       "\n",
       "[1999 rows x 23 columns]"
      ]
     },
     "execution_count": 149,
     "metadata": {},
     "output_type": "execute_result"
    }
   ],
   "source": [
    "#To predict we import the test dataset\n",
    "\n",
    "pd.read_excel('Test_Fraud_data4.xlsx')"
   ]
  },
  {
   "cell_type": "code",
   "execution_count": 150,
   "id": "fe3a448a",
   "metadata": {},
   "outputs": [],
   "source": [
    "Fraud_Test=pd.read_excel('Test_Fraud_data4.xlsx')"
   ]
  },
  {
   "cell_type": "code",
   "execution_count": 151,
   "id": "9628e67b",
   "metadata": {},
   "outputs": [
    {
     "data": {
      "text/plain": [
       "trans_date_trans_time    0\n",
       "cc_num                   0\n",
       "merchant                 0\n",
       "category                 0\n",
       "amt                      0\n",
       "first                    0\n",
       "last                     0\n",
       "gender                   0\n",
       "street                   0\n",
       "city                     0\n",
       "state                    0\n",
       "zip                      0\n",
       "lat                      0\n",
       "long                     0\n",
       "city_pop                 0\n",
       "job                      0\n",
       "dob                      0\n",
       "trans_num                0\n",
       "unix_time                0\n",
       "merch_lat                0\n",
       "merch_long               0\n",
       "is_fraud                 0\n",
       "Data_FLAG                0\n",
       "dtype: int64"
      ]
     },
     "execution_count": 151,
     "metadata": {},
     "output_type": "execute_result"
    }
   ],
   "source": [
    "Fraud_Test.isnull().sum()"
   ]
  },
  {
   "cell_type": "code",
   "execution_count": 152,
   "id": "135c0d27",
   "metadata": {},
   "outputs": [
    {
     "data": {
      "text/plain": [
       "Index(['trans_date_trans_time', 'cc_num', 'merchant', 'category', 'amt',\n",
       "       'first', 'last', 'gender', 'street', 'city', 'state', 'zip', 'lat',\n",
       "       'long', 'city_pop', 'job', 'dob', 'trans_num', 'unix_time', 'merch_lat',\n",
       "       'merch_long', 'is_fraud', 'Data_FLAG'],\n",
       "      dtype='object')"
      ]
     },
     "execution_count": 152,
     "metadata": {},
     "output_type": "execute_result"
    }
   ],
   "source": [
    "Fraud_Test.columns"
   ]
  },
  {
   "cell_type": "code",
   "execution_count": 153,
   "id": "3c67e171",
   "metadata": {},
   "outputs": [
    {
     "name": "stdout",
     "output_type": "stream",
     "text": [
      "<class 'pandas.core.frame.DataFrame'>\n",
      "RangeIndex: 1999 entries, 0 to 1998\n",
      "Data columns (total 23 columns):\n",
      " #   Column                 Non-Null Count  Dtype         \n",
      "---  ------                 --------------  -----         \n",
      " 0   trans_date_trans_time  1999 non-null   datetime64[ns]\n",
      " 1   cc_num                 1999 non-null   int64         \n",
      " 2   merchant               1999 non-null   object        \n",
      " 3   category               1999 non-null   object        \n",
      " 4   amt                    1999 non-null   float64       \n",
      " 5   first                  1999 non-null   object        \n",
      " 6   last                   1999 non-null   object        \n",
      " 7   gender                 1999 non-null   object        \n",
      " 8   street                 1999 non-null   object        \n",
      " 9   city                   1999 non-null   object        \n",
      " 10  state                  1999 non-null   object        \n",
      " 11  zip                    1999 non-null   int64         \n",
      " 12  lat                    1999 non-null   float64       \n",
      " 13  long                   1999 non-null   float64       \n",
      " 14  city_pop               1999 non-null   int64         \n",
      " 15  job                    1999 non-null   object        \n",
      " 16  dob                    1999 non-null   datetime64[ns]\n",
      " 17  trans_num              1999 non-null   object        \n",
      " 18  unix_time              1999 non-null   int64         \n",
      " 19  merch_lat              1999 non-null   float64       \n",
      " 20  merch_long             1999 non-null   float64       \n",
      " 21  is_fraud               1999 non-null   int64         \n",
      " 22  Data_FLAG              1999 non-null   object        \n",
      "dtypes: datetime64[ns](2), float64(5), int64(5), object(11)\n",
      "memory usage: 359.3+ KB\n"
     ]
    }
   ],
   "source": [
    "Fraud_Test.info()"
   ]
  },
  {
   "cell_type": "code",
   "execution_count": 154,
   "id": "bb8d1ecc",
   "metadata": {},
   "outputs": [],
   "source": [
    "#Encoding and transcribing of the catigorical column"
   ]
  },
  {
   "cell_type": "code",
   "execution_count": 155,
   "id": "ea2b7732",
   "metadata": {},
   "outputs": [],
   "source": [
    "Fraud_Test[\"merchant\"] = Le.fit_transform(Fraud_Test[\"merchant\"])"
   ]
  },
  {
   "cell_type": "code",
   "execution_count": 156,
   "id": "48795f17",
   "metadata": {},
   "outputs": [],
   "source": [
    "Fraud_Test['category'] = Le.fit_transform(Fraud_Test['category'])"
   ]
  },
  {
   "cell_type": "code",
   "execution_count": 157,
   "id": "639d3bb7",
   "metadata": {},
   "outputs": [],
   "source": [
    "Fraud_Test['first'] = Le.fit_transform(Fraud_Test['first'])"
   ]
  },
  {
   "cell_type": "code",
   "execution_count": 158,
   "id": "5cddb2b3",
   "metadata": {},
   "outputs": [],
   "source": [
    "Fraud_Test['last'] = Le.fit_transform(Fraud_Test['last'])"
   ]
  },
  {
   "cell_type": "code",
   "execution_count": 159,
   "id": "71d2dc83",
   "metadata": {},
   "outputs": [],
   "source": [
    "Fraud_Test['gender'] = Le.fit_transform(Fraud_Test['gender'])"
   ]
  },
  {
   "cell_type": "code",
   "execution_count": 160,
   "id": "9e665f79",
   "metadata": {},
   "outputs": [],
   "source": [
    "Fraud_Test['street'] = Le.fit_transform(Fraud_Test['street'])"
   ]
  },
  {
   "cell_type": "code",
   "execution_count": 161,
   "id": "a53a0470",
   "metadata": {},
   "outputs": [],
   "source": [
    "Fraud_Test['city'] = Le.fit_transform(Fraud_Test['city'])"
   ]
  },
  {
   "cell_type": "code",
   "execution_count": 162,
   "id": "9ac9e412",
   "metadata": {},
   "outputs": [],
   "source": [
    "Fraud_Test['state'] = Le.fit_transform(Fraud_Test['state'])"
   ]
  },
  {
   "cell_type": "code",
   "execution_count": 163,
   "id": "e54a5a99",
   "metadata": {},
   "outputs": [],
   "source": [
    "Fraud_Test['job'] = Le.fit_transform(Fraud_Test['job'])"
   ]
  },
  {
   "cell_type": "code",
   "execution_count": 165,
   "id": "461531de",
   "metadata": {},
   "outputs": [],
   "source": [
    "Fraud_Test['trans_num'] = Le.fit_transform(Fraud_Test['trans_num'])"
   ]
  },
  {
   "cell_type": "code",
   "execution_count": 166,
   "id": "0ae71ac0",
   "metadata": {},
   "outputs": [],
   "source": [
    "Fraud_Test['Data_FLAG'] = Le.fit_transform(Fraud_Test['Data_FLAG'])"
   ]
  },
  {
   "cell_type": "code",
   "execution_count": 167,
   "id": "2d1e0899",
   "metadata": {},
   "outputs": [],
   "source": [
    "#trans_date_trans_time\n",
    "Fraud_Test['trans_date_trans_time'] = (Fraud_Test['trans_date_trans_time'] - pd.Timestamp(\"1970-01-01\")).dt.days"
   ]
  },
  {
   "cell_type": "code",
   "execution_count": 169,
   "id": "63fa04cd",
   "metadata": {},
   "outputs": [],
   "source": [
    "Fraud_Test['dob'] = (Fraud_Test['dob'] - pd.Timestamp(\"1970-01-01\")).dt.days"
   ]
  },
  {
   "cell_type": "code",
   "execution_count": 170,
   "id": "61b446a2",
   "metadata": {},
   "outputs": [],
   "source": [
    "A = Fraud_Test[['trans_date_trans_time', 'cc_num', 'merchant', 'category', 'amt',\n",
    "       'first', 'last', 'gender', 'street', 'city', 'state', 'zip', 'lat',\n",
    "       'long', 'city_pop', 'job', 'dob', 'trans_num', 'unix_time', 'merch_lat',\n",
    "       'merch_long']].values"
   ]
  },
  {
   "cell_type": "code",
   "execution_count": 171,
   "id": "7db33f59",
   "metadata": {},
   "outputs": [],
   "source": [
    "B = Fraud_Test['is_fraud']. values"
   ]
  },
  {
   "cell_type": "code",
   "execution_count": 172,
   "id": "23c8fad7",
   "metadata": {},
   "outputs": [],
   "source": [
    "# Make predictions on the test set\n",
    "Z_pred =model.predict(A)"
   ]
  },
  {
   "cell_type": "code",
   "execution_count": 173,
   "id": "b1aec293",
   "metadata": {},
   "outputs": [
    {
     "data": {
      "text/plain": [
       "array([0, 0, 0, ..., 0, 0, 0], dtype=int64)"
      ]
     },
     "execution_count": 173,
     "metadata": {},
     "output_type": "execute_result"
    }
   ],
   "source": [
    "Z_pred"
   ]
  },
  {
   "cell_type": "code",
   "execution_count": 179,
   "id": "f8d8b08b",
   "metadata": {},
   "outputs": [
    {
     "data": {
      "text/plain": [
       "array([[1990,    0],\n",
       "       [   9,    0]], dtype=int64)"
      ]
     },
     "execution_count": 179,
     "metadata": {},
     "output_type": "execute_result"
    }
   ],
   "source": [
    "#Now to evaluate the model’s prediction, because it is a classification algorithm, we use the confusion_matrix or \n",
    "#accuracy_score or classification_report.\n",
    "\n",
    "from sklearn.metrics import accuracy_score, confusion_matrix\n",
    "confusion_matrix(B,Z_pred)\n"
   ]
  },
  {
   "cell_type": "code",
   "execution_count": 176,
   "id": "1dc10a43",
   "metadata": {},
   "outputs": [
    {
     "data": {
      "text/plain": [
       "0.9954977488744372"
      ]
     },
     "execution_count": 176,
     "metadata": {},
     "output_type": "execute_result"
    }
   ],
   "source": [
    "accuracy_score(B,Z_pred)"
   ]
  },
  {
   "cell_type": "code",
   "execution_count": 178,
   "id": "ad087add",
   "metadata": {},
   "outputs": [
    {
     "data": {
      "text/plain": [
       "array([[1990,    0],\n",
       "       [   9,    0]], dtype=int64)"
      ]
     },
     "execution_count": 178,
     "metadata": {},
     "output_type": "execute_result"
    }
   ],
   "source": [
    "#Then we can visualize the results using heatmap below\n",
    "cm = confusion_matrix(B, Z_pred)\n",
    "cm"
   ]
  },
  {
   "cell_type": "code",
   "execution_count": 185,
   "id": "1656095e",
   "metadata": {},
   "outputs": [
    {
     "data": {
      "image/png": "[encoded data removed]",
      "text/plain": [
       "<Figure size 2500x1000 with 2 Axes>"
      ]
     },
     "metadata": {},
     "output_type": "display_data"
    }
   ],
   "source": [
    "# Visualize the confusion matrix using Seabornsns.heatmap(cm, annot=True, fmt=\"d\")\n",
    "plt.figure(figsize=(25,10))\n",
    "sns.heatmap(cm, annot=True, fmt=\".2f\")\n",
    "plt.show()"
   ]
  },
  {
   "cell_type": "code",
   "execution_count": null,
   "id": "7c1cce45",
   "metadata": {},
   "outputs": [],
   "source": []
  }
 ],
 "metadata": {
  "kernelspec": {
   "display_name": "Python 3 (ipykernel)",
   "language": "python",
   "name": "python3"
  },
  "language_info": {
   "codemirror_mode": {
    "name": "ipython",
    "version": 3
   },
   "file_extension": ".py",
   "mimetype": "text/x-python",
   "name": "python",
   "nbconvert_exporter": "python",
   "pygments_lexer": "ipython3",
   "version": "3.11.5"
  }
 },
 "nbformat": 4,
 "nbformat_minor": 5
}
