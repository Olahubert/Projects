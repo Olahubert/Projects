{
 "cells": [
  {
   "cell_type": "code",
   "execution_count": 1,
   "id": "1da142d5",
   "metadata": {},
   "outputs": [],
   "source": [
    "#A dataset comprising the price, address, number of bathrooms, number of bedrooms, city, and \n",
    "#province of real estate listings for Canada's\n",
    "#top 45 most populous cities, according to the 2021 census.\n"
   ]
  },
  {
   "cell_type": "code",
   "execution_count": 113,
   "id": "16cde251",
   "metadata": {},
   "outputs": [],
   "source": [
    "import pandas as pd\n",
    "import numpy as np\n",
    "import matplotlib.pyplot as plt\n",
    "import seaborn as sns"
   ]
  },
  {
   "cell_type": "code",
   "execution_count": 42,
   "id": "97291e02",
   "metadata": {},
   "outputs": [
    {
     "data": {
      "text/html": [
       "<div>\n",
       "<style scoped>\n",
       "    .dataframe tbody tr th:only-of-type {\n",
       "        vertical-align: middle;\n",
       "    }\n",
       "\n",
       "    .dataframe tbody tr th {\n",
       "        vertical-align: top;\n",
       "    }\n",
       "\n",
       "    .dataframe thead th {\n",
       "        text-align: right;\n",
       "    }\n",
       "</style>\n",
       "<table border=\"1\" class=\"dataframe\">\n",
       "  <thead>\n",
       "    <tr style=\"text-align: right;\">\n",
       "      <th></th>\n",
       "      <th>City</th>\n",
       "      <th>Price</th>\n",
       "      <th>Address</th>\n",
       "      <th>Number_Beds</th>\n",
       "      <th>Number_Baths</th>\n",
       "      <th>Province</th>\n",
       "      <th>Population</th>\n",
       "      <th>Latitude</th>\n",
       "      <th>Longitude</th>\n",
       "      <th>Median_Family_Income</th>\n",
       "    </tr>\n",
       "  </thead>\n",
       "  <tbody>\n",
       "    <tr>\n",
       "      <th>0</th>\n",
       "      <td>Toronto</td>\n",
       "      <td>779900.0</td>\n",
       "      <td>#318 -20 SOUTHPORT ST</td>\n",
       "      <td>3</td>\n",
       "      <td>2</td>\n",
       "      <td>Ontario</td>\n",
       "      <td>5647656</td>\n",
       "      <td>43.7417</td>\n",
       "      <td>-79.3733</td>\n",
       "      <td>97000.0</td>\n",
       "    </tr>\n",
       "    <tr>\n",
       "      <th>1</th>\n",
       "      <td>Toronto</td>\n",
       "      <td>799999.0</td>\n",
       "      <td>#818 -60 SOUTHPORT ST</td>\n",
       "      <td>3</td>\n",
       "      <td>1</td>\n",
       "      <td>Ontario</td>\n",
       "      <td>5647656</td>\n",
       "      <td>43.7417</td>\n",
       "      <td>-79.3733</td>\n",
       "      <td>97000.0</td>\n",
       "    </tr>\n",
       "    <tr>\n",
       "      <th>2</th>\n",
       "      <td>Toronto</td>\n",
       "      <td>799900.0</td>\n",
       "      <td>#714 -859 THE QUEENSWAY</td>\n",
       "      <td>2</td>\n",
       "      <td>2</td>\n",
       "      <td>Ontario</td>\n",
       "      <td>5647656</td>\n",
       "      <td>43.7417</td>\n",
       "      <td>-79.3733</td>\n",
       "      <td>97000.0</td>\n",
       "    </tr>\n",
       "    <tr>\n",
       "      <th>3</th>\n",
       "      <td>Toronto</td>\n",
       "      <td>1200000.0</td>\n",
       "      <td>275 MORTIMER AVE</td>\n",
       "      <td>4</td>\n",
       "      <td>2</td>\n",
       "      <td>Ontario</td>\n",
       "      <td>5647656</td>\n",
       "      <td>43.7417</td>\n",
       "      <td>-79.3733</td>\n",
       "      <td>97000.0</td>\n",
       "    </tr>\n",
       "    <tr>\n",
       "      <th>4</th>\n",
       "      <td>Toronto</td>\n",
       "      <td>668800.0</td>\n",
       "      <td>#420 -388 RICHMOND ST</td>\n",
       "      <td>1</td>\n",
       "      <td>1</td>\n",
       "      <td>Ontario</td>\n",
       "      <td>5647656</td>\n",
       "      <td>43.7417</td>\n",
       "      <td>-79.3733</td>\n",
       "      <td>97000.0</td>\n",
       "    </tr>\n",
       "    <tr>\n",
       "      <th>...</th>\n",
       "      <td>...</td>\n",
       "      <td>...</td>\n",
       "      <td>...</td>\n",
       "      <td>...</td>\n",
       "      <td>...</td>\n",
       "      <td>...</td>\n",
       "      <td>...</td>\n",
       "      <td>...</td>\n",
       "      <td>...</td>\n",
       "      <td>...</td>\n",
       "    </tr>\n",
       "    <tr>\n",
       "      <th>35763</th>\n",
       "      <td>Halifax</td>\n",
       "      <td>439900.0</td>\n",
       "      <td>301 60 Walter Havill Drive</td>\n",
       "      <td>2</td>\n",
       "      <td>2</td>\n",
       "      <td>Nova Scotia</td>\n",
       "      <td>431479</td>\n",
       "      <td>44.8857</td>\n",
       "      <td>63.1005</td>\n",
       "      <td>86753.0</td>\n",
       "    </tr>\n",
       "    <tr>\n",
       "      <th>35764</th>\n",
       "      <td>Halifax</td>\n",
       "      <td>6990000.0</td>\n",
       "      <td>1160 Rockcliffe Street</td>\n",
       "      <td>5</td>\n",
       "      <td>5</td>\n",
       "      <td>Nova Scotia</td>\n",
       "      <td>431479</td>\n",
       "      <td>44.8857</td>\n",
       "      <td>63.1005</td>\n",
       "      <td>86753.0</td>\n",
       "    </tr>\n",
       "    <tr>\n",
       "      <th>35765</th>\n",
       "      <td>Halifax</td>\n",
       "      <td>419900.0</td>\n",
       "      <td>212 60 Walter Havill Drive</td>\n",
       "      <td>2</td>\n",
       "      <td>2</td>\n",
       "      <td>Nova Scotia</td>\n",
       "      <td>431479</td>\n",
       "      <td>44.8857</td>\n",
       "      <td>63.1005</td>\n",
       "      <td>86753.0</td>\n",
       "    </tr>\n",
       "    <tr>\n",
       "      <th>35766</th>\n",
       "      <td>Halifax</td>\n",
       "      <td>949900.0</td>\n",
       "      <td>10 Idlewylde Road</td>\n",
       "      <td>3</td>\n",
       "      <td>1</td>\n",
       "      <td>Nova Scotia</td>\n",
       "      <td>431479</td>\n",
       "      <td>44.8857</td>\n",
       "      <td>63.1005</td>\n",
       "      <td>86753.0</td>\n",
       "    </tr>\n",
       "    <tr>\n",
       "      <th>35767</th>\n",
       "      <td>Halifax</td>\n",
       "      <td>592900.0</td>\n",
       "      <td>208 2842-2856 Gottingen</td>\n",
       "      <td>2</td>\n",
       "      <td>1</td>\n",
       "      <td>Nova Scotia</td>\n",
       "      <td>431479</td>\n",
       "      <td>44.8857</td>\n",
       "      <td>63.1005</td>\n",
       "      <td>86753.0</td>\n",
       "    </tr>\n",
       "  </tbody>\n",
       "</table>\n",
       "<p>35768 rows × 10 columns</p>\n",
       "</div>"
      ],
      "text/plain": [
       "          City      Price                     Address  Number_Beds  \\\n",
       "0      Toronto   779900.0       #318 -20 SOUTHPORT ST            3   \n",
       "1      Toronto   799999.0       #818 -60 SOUTHPORT ST            3   \n",
       "2      Toronto   799900.0     #714 -859 THE QUEENSWAY            2   \n",
       "3      Toronto  1200000.0            275 MORTIMER AVE            4   \n",
       "4      Toronto   668800.0       #420 -388 RICHMOND ST            1   \n",
       "...        ...        ...                         ...          ...   \n",
       "35763  Halifax   439900.0  301 60 Walter Havill Drive            2   \n",
       "35764  Halifax  6990000.0      1160 Rockcliffe Street            5   \n",
       "35765  Halifax   419900.0  212 60 Walter Havill Drive            2   \n",
       "35766  Halifax   949900.0           10 Idlewylde Road            3   \n",
       "35767  Halifax   592900.0     208 2842-2856 Gottingen            2   \n",
       "\n",
       "       Number_Baths     Province  Population  Latitude  Longitude  \\\n",
       "0                 2      Ontario     5647656   43.7417   -79.3733   \n",
       "1                 1      Ontario     5647656   43.7417   -79.3733   \n",
       "2                 2      Ontario     5647656   43.7417   -79.3733   \n",
       "3                 2      Ontario     5647656   43.7417   -79.3733   \n",
       "4                 1      Ontario     5647656   43.7417   -79.3733   \n",
       "...             ...          ...         ...       ...        ...   \n",
       "35763             2  Nova Scotia      431479   44.8857    63.1005   \n",
       "35764             5  Nova Scotia      431479   44.8857    63.1005   \n",
       "35765             2  Nova Scotia      431479   44.8857    63.1005   \n",
       "35766             1  Nova Scotia      431479   44.8857    63.1005   \n",
       "35767             1  Nova Scotia      431479   44.8857    63.1005   \n",
       "\n",
       "       Median_Family_Income  \n",
       "0                   97000.0  \n",
       "1                   97000.0  \n",
       "2                   97000.0  \n",
       "3                   97000.0  \n",
       "4                   97000.0  \n",
       "...                     ...  \n",
       "35763               86753.0  \n",
       "35764               86753.0  \n",
       "35765               86753.0  \n",
       "35766               86753.0  \n",
       "35767               86753.0  \n",
       "\n",
       "[35768 rows x 10 columns]"
      ]
     },
     "execution_count": 42,
     "metadata": {},
     "output_type": "execute_result"
    }
   ],
   "source": [
    "#The character in the dataset is not compling with the diffult encoding\n",
    "Housing = pd.read_csv('HousePricing.csv', encoding='ISO-8859-1')\n",
    "Housing"
   ]
  },
  {
   "cell_type": "code",
   "execution_count": 43,
   "id": "57611bb6",
   "metadata": {},
   "outputs": [
    {
     "data": {
      "text/plain": [
       "City                    0\n",
       "Price                   0\n",
       "Address                 0\n",
       "Number_Beds             0\n",
       "Number_Baths            0\n",
       "Province                0\n",
       "Population              0\n",
       "Latitude                0\n",
       "Longitude               0\n",
       "Median_Family_Income    0\n",
       "dtype: int64"
      ]
     },
     "execution_count": 43,
     "metadata": {},
     "output_type": "execute_result"
    }
   ],
   "source": [
    "# missing values\n",
    "Housing.isnull().sum()"
   ]
  },
  {
   "cell_type": "code",
   "execution_count": 44,
   "id": "d5a119c1",
   "metadata": {},
   "outputs": [
    {
     "data": {
      "text/html": [
       "<div>\n",
       "<style scoped>\n",
       "    .dataframe tbody tr th:only-of-type {\n",
       "        vertical-align: middle;\n",
       "    }\n",
       "\n",
       "    .dataframe tbody tr th {\n",
       "        vertical-align: top;\n",
       "    }\n",
       "\n",
       "    .dataframe thead th {\n",
       "        text-align: right;\n",
       "    }\n",
       "</style>\n",
       "<table border=\"1\" class=\"dataframe\">\n",
       "  <thead>\n",
       "    <tr style=\"text-align: right;\">\n",
       "      <th></th>\n",
       "      <th>Price</th>\n",
       "      <th>Number_Beds</th>\n",
       "      <th>Number_Baths</th>\n",
       "      <th>Population</th>\n",
       "      <th>Latitude</th>\n",
       "      <th>Longitude</th>\n",
       "      <th>Median_Family_Income</th>\n",
       "    </tr>\n",
       "  </thead>\n",
       "  <tbody>\n",
       "    <tr>\n",
       "      <th>count</th>\n",
       "      <td>3.576800e+04</td>\n",
       "      <td>35768.000000</td>\n",
       "      <td>35768.000000</td>\n",
       "      <td>3.576800e+04</td>\n",
       "      <td>35768.000000</td>\n",
       "      <td>35768.000000</td>\n",
       "      <td>35768.000000</td>\n",
       "    </tr>\n",
       "    <tr>\n",
       "      <th>mean</th>\n",
       "      <td>9.432963e+05</td>\n",
       "      <td>3.283661</td>\n",
       "      <td>2.532403</td>\n",
       "      <td>6.360151e+05</td>\n",
       "      <td>47.446556</td>\n",
       "      <td>-98.421636</td>\n",
       "      <td>89643.103416</td>\n",
       "    </tr>\n",
       "    <tr>\n",
       "      <th>std</th>\n",
       "      <td>1.020110e+06</td>\n",
       "      <td>1.730654</td>\n",
       "      <td>1.371910</td>\n",
       "      <td>1.120016e+06</td>\n",
       "      <td>3.333855</td>\n",
       "      <td>22.280935</td>\n",
       "      <td>12132.353510</td>\n",
       "    </tr>\n",
       "    <tr>\n",
       "      <th>min</th>\n",
       "      <td>2.150000e+04</td>\n",
       "      <td>0.000000</td>\n",
       "      <td>0.000000</td>\n",
       "      <td>6.338200e+04</td>\n",
       "      <td>42.283300</td>\n",
       "      <td>-123.936400</td>\n",
       "      <td>62400.000000</td>\n",
       "    </tr>\n",
       "    <tr>\n",
       "      <th>25%</th>\n",
       "      <td>4.599000e+05</td>\n",
       "      <td>2.000000</td>\n",
       "      <td>2.000000</td>\n",
       "      <td>1.091670e+05</td>\n",
       "      <td>43.866700</td>\n",
       "      <td>-122.316700</td>\n",
       "      <td>82000.000000</td>\n",
       "    </tr>\n",
       "    <tr>\n",
       "      <th>50%</th>\n",
       "      <td>6.990000e+05</td>\n",
       "      <td>3.000000</td>\n",
       "      <td>2.000000</td>\n",
       "      <td>2.424600e+05</td>\n",
       "      <td>49.025000</td>\n",
       "      <td>-104.606700</td>\n",
       "      <td>89000.000000</td>\n",
       "    </tr>\n",
       "    <tr>\n",
       "      <th>75%</th>\n",
       "      <td>1.095000e+06</td>\n",
       "      <td>4.000000</td>\n",
       "      <td>3.000000</td>\n",
       "      <td>5.228880e+05</td>\n",
       "      <td>49.888100</td>\n",
       "      <td>-79.866700</td>\n",
       "      <td>97000.000000</td>\n",
       "    </tr>\n",
       "    <tr>\n",
       "      <th>max</th>\n",
       "      <td>3.700000e+07</td>\n",
       "      <td>109.000000</td>\n",
       "      <td>59.000000</td>\n",
       "      <td>5.647656e+06</td>\n",
       "      <td>53.916900</td>\n",
       "      <td>63.100500</td>\n",
       "      <td>133000.000000</td>\n",
       "    </tr>\n",
       "  </tbody>\n",
       "</table>\n",
       "</div>"
      ],
      "text/plain": [
       "              Price   Number_Beds  Number_Baths    Population      Latitude  \\\n",
       "count  3.576800e+04  35768.000000  35768.000000  3.576800e+04  35768.000000   \n",
       "mean   9.432963e+05      3.283661      2.532403  6.360151e+05     47.446556   \n",
       "std    1.020110e+06      1.730654      1.371910  1.120016e+06      3.333855   \n",
       "min    2.150000e+04      0.000000      0.000000  6.338200e+04     42.283300   \n",
       "25%    4.599000e+05      2.000000      2.000000  1.091670e+05     43.866700   \n",
       "50%    6.990000e+05      3.000000      2.000000  2.424600e+05     49.025000   \n",
       "75%    1.095000e+06      4.000000      3.000000  5.228880e+05     49.888100   \n",
       "max    3.700000e+07    109.000000     59.000000  5.647656e+06     53.916900   \n",
       "\n",
       "          Longitude  Median_Family_Income  \n",
       "count  35768.000000          35768.000000  \n",
       "mean     -98.421636          89643.103416  \n",
       "std       22.280935          12132.353510  \n",
       "min     -123.936400          62400.000000  \n",
       "25%     -122.316700          82000.000000  \n",
       "50%     -104.606700          89000.000000  \n",
       "75%      -79.866700          97000.000000  \n",
       "max       63.100500         133000.000000  "
      ]
     },
     "execution_count": 44,
     "metadata": {},
     "output_type": "execute_result"
    }
   ],
   "source": [
    "Housing.describe()"
   ]
  },
  {
   "cell_type": "code",
   "execution_count": 45,
   "id": "c63789f7",
   "metadata": {},
   "outputs": [
    {
     "data": {
      "text/plain": [
       "<Axes: ylabel='Price'>"
      ]
     },
     "execution_count": 45,
     "metadata": {},
     "output_type": "execute_result"
    },
    {
     "data": {
      "image/png": "[encoded data removed]",
      "text/plain": [
       "<Figure size 640x480 with 1 Axes>"
      ]
     },
     "metadata": {},
     "output_type": "display_data"
    }
   ],
   "source": [
    "#Cheking the outliers(Price)\n",
    "sns.boxplot(y='Price', data=Housing)"
   ]
  },
  {
   "cell_type": "code",
   "execution_count": 46,
   "id": "caaa6348",
   "metadata": {},
   "outputs": [
    {
     "data": {
      "text/plain": [
       "<Axes: ylabel='Number_Beds'>"
      ]
     },
     "execution_count": 46,
     "metadata": {},
     "output_type": "execute_result"
    },
    {
     "data": {
      "image/png": "[encoded data removed]",
      "text/plain": [
       "<Figure size 640x480 with 1 Axes>"
      ]
     },
     "metadata": {},
     "output_type": "display_data"
    }
   ],
   "source": [
    "#Number_Beds\n",
    "sns.boxplot(y='Number_Beds', data=Housing)"
   ]
  },
  {
   "cell_type": "code",
   "execution_count": 47,
   "id": "b0aeec33",
   "metadata": {},
   "outputs": [
    {
     "data": {
      "text/plain": [
       "<Axes: ylabel='Number_Baths'>"
      ]
     },
     "execution_count": 47,
     "metadata": {},
     "output_type": "execute_result"
    },
    {
     "data": {
      "image/png": "[encoded data removed]",
      "text/plain": [
       "<Figure size 640x480 with 1 Axes>"
      ]
     },
     "metadata": {},
     "output_type": "display_data"
    }
   ],
   "source": [
    "#Number_Baths\n",
    "sns.boxplot(y='Number_Baths', data=Housing)"
   ]
  },
  {
   "cell_type": "code",
   "execution_count": 48,
   "id": "6b671864",
   "metadata": {},
   "outputs": [
    {
     "data": {
      "text/plain": [
       "<Axes: ylabel='Population'>"
      ]
     },
     "execution_count": 48,
     "metadata": {},
     "output_type": "execute_result"
    },
    {
     "data": {
      "image/png": "[encoded data removed]",
      "text/plain": [
       "<Figure size 640x480 with 1 Axes>"
      ]
     },
     "metadata": {},
     "output_type": "display_data"
    }
   ],
   "source": [
    "#Population\n",
    "sns.boxplot(y='Population', data=Housing)"
   ]
  },
  {
   "cell_type": "code",
   "execution_count": 49,
   "id": "c427c2cc",
   "metadata": {},
   "outputs": [
    {
     "data": {
      "text/plain": [
       "<Axes: xlabel='Population', ylabel='Price'>"
      ]
     },
     "execution_count": 49,
     "metadata": {},
     "output_type": "execute_result"
    },
    {
     "data": {
      "image/png": "[encoded data removed]",
      "text/plain": [
       "<Figure size 640x480 with 1 Axes>"
      ]
     },
     "metadata": {},
     "output_type": "display_data"
    }
   ],
   "source": [
    "#Check for linear relationship for Numericalcolumn\n",
    "sns.scatterplot(data=Housing, y=\"Price\", x=\"Population\")"
   ]
  },
  {
   "cell_type": "code",
   "execution_count": 50,
   "id": "ed7065f1",
   "metadata": {},
   "outputs": [
    {
     "data": {
      "text/plain": [
       "<Axes: xlabel='Number_Beds', ylabel='Price'>"
      ]
     },
     "execution_count": 50,
     "metadata": {},
     "output_type": "execute_result"
    },
    {
     "data": {
      "image/png": "[encoded data removed]",
      "text/plain": [
       "<Figure size 640x480 with 1 Axes>"
      ]
     },
     "metadata": {},
     "output_type": "display_data"
    }
   ],
   "source": [
    "sns.scatterplot(data=Housing, y=\"Price\", x=\"Number_Beds\")"
   ]
  },
  {
   "cell_type": "code",
   "execution_count": 51,
   "id": "854df28b",
   "metadata": {},
   "outputs": [
    {
     "data": {
      "text/plain": [
       "<Axes: xlabel='Number_Baths', ylabel='Price'>"
      ]
     },
     "execution_count": 51,
     "metadata": {},
     "output_type": "execute_result"
    },
    {
     "data": {
      "image/png": "[encoded data removed]",
      "text/plain": [
       "<Figure size 640x480 with 1 Axes>"
      ]
     },
     "metadata": {},
     "output_type": "display_data"
    }
   ],
   "source": [
    "sns.scatterplot(data=Housing, y=\"Price\", x=\"Number_Baths\")"
   ]
  },
  {
   "cell_type": "code",
   "execution_count": 52,
   "id": "eac29d3d",
   "metadata": {},
   "outputs": [
    {
     "data": {
      "text/plain": [
       "<Axes: xlabel='count', ylabel='Province'>"
      ]
     },
     "execution_count": 52,
     "metadata": {},
     "output_type": "execute_result"
    },
    {
     "data": {
      "image/png": "[encoded data removed]",
      "text/plain": [
       "<Figure size 640x480 with 1 Axes>"
      ]
     },
     "metadata": {},
     "output_type": "display_data"
    }
   ],
   "source": [
    "#Categorical column\n",
    "sns.countplot(y= \"Province\", data = Housing)"
   ]
  },
  {
   "cell_type": "code",
   "execution_count": 53,
   "id": "f7d74994",
   "metadata": {},
   "outputs": [
    {
     "data": {
      "text/plain": [
       "<Axes: xlabel='count', ylabel='City'>"
      ]
     },
     "execution_count": 53,
     "metadata": {},
     "output_type": "execute_result"
    },
    {
     "data": {
      "image/png": "[encoded data removed]",
      "text/plain": [
       "<Figure size 640x480 with 1 Axes>"
      ]
     },
     "metadata": {},
     "output_type": "display_data"
    }
   ],
   "source": [
    "sns.countplot(y= \"City\", data = Housing)"
   ]
  },
  {
   "cell_type": "code",
   "execution_count": 54,
   "id": "3965374e",
   "metadata": {},
   "outputs": [
    {
     "data": {
      "text/plain": [
       "<Axes: xlabel='Price', ylabel='Count'>"
      ]
     },
     "execution_count": 54,
     "metadata": {},
     "output_type": "execute_result"
    },
    {
     "data": {
      "image/png": "[encoded data removed]",
      "text/plain": [
       "<Figure size 640x480 with 1 Axes>"
      ]
     },
     "metadata": {},
     "output_type": "display_data"
    }
   ],
   "source": [
    "#histogram\n",
    "sns.histplot(x= \"Price\", data = Housing)"
   ]
  },
  {
   "cell_type": "code",
   "execution_count": 55,
   "id": "68f01c92",
   "metadata": {},
   "outputs": [
    {
     "data": {
      "text/plain": [
       "<Axes: ylabel='Price'>"
      ]
     },
     "execution_count": 55,
     "metadata": {},
     "output_type": "execute_result"
    },
    {
     "data": {
      "image/png": "[encoded data removed]",
      "text/plain": [
       "<Figure size 640x480 with 1 Axes>"
      ]
     },
     "metadata": {},
     "output_type": "display_data"
    }
   ],
   "source": [
    "sns.boxplot(y= \"Price\", data = Housing)"
   ]
  },
  {
   "cell_type": "code",
   "execution_count": 56,
   "id": "16e27875",
   "metadata": {},
   "outputs": [],
   "source": [
    "#Removing the outlier for Price\n",
    "#Trimming and capping\n",
    "lowerLimit = Housing[\"Price\"].quantile(0.00)"
   ]
  },
  {
   "cell_type": "code",
   "execution_count": 57,
   "id": "e7b1e374",
   "metadata": {},
   "outputs": [
    {
     "data": {
      "text/plain": [
       "1999999.0"
      ]
     },
     "execution_count": 57,
     "metadata": {},
     "output_type": "execute_result"
    }
   ],
   "source": [
    "upperLimit = Housing[\"Price\"].quantile(0.93)\n",
    "upperLimit"
   ]
  },
  {
   "cell_type": "code",
   "execution_count": 58,
   "id": "60f20159",
   "metadata": {},
   "outputs": [],
   "source": [
    "#To comfirm\n",
    "Housing['new_price'] = Housing['Price'].clip(lowerLimit, upperLimit)"
   ]
  },
  {
   "cell_type": "code",
   "execution_count": 59,
   "id": "f3b59aa0",
   "metadata": {},
   "outputs": [
    {
     "data": {
      "text/html": [
       "<div>\n",
       "<style scoped>\n",
       "    .dataframe tbody tr th:only-of-type {\n",
       "        vertical-align: middle;\n",
       "    }\n",
       "\n",
       "    .dataframe tbody tr th {\n",
       "        vertical-align: top;\n",
       "    }\n",
       "\n",
       "    .dataframe thead th {\n",
       "        text-align: right;\n",
       "    }\n",
       "</style>\n",
       "<table border=\"1\" class=\"dataframe\">\n",
       "  <thead>\n",
       "    <tr style=\"text-align: right;\">\n",
       "      <th></th>\n",
       "      <th>City</th>\n",
       "      <th>Price</th>\n",
       "      <th>Address</th>\n",
       "      <th>Number_Beds</th>\n",
       "      <th>Number_Baths</th>\n",
       "      <th>Province</th>\n",
       "      <th>Population</th>\n",
       "      <th>Latitude</th>\n",
       "      <th>Longitude</th>\n",
       "      <th>Median_Family_Income</th>\n",
       "      <th>new_price</th>\n",
       "    </tr>\n",
       "  </thead>\n",
       "  <tbody>\n",
       "    <tr>\n",
       "      <th>0</th>\n",
       "      <td>Toronto</td>\n",
       "      <td>779900.0</td>\n",
       "      <td>#318 -20 SOUTHPORT ST</td>\n",
       "      <td>3</td>\n",
       "      <td>2</td>\n",
       "      <td>Ontario</td>\n",
       "      <td>5647656</td>\n",
       "      <td>43.7417</td>\n",
       "      <td>-79.3733</td>\n",
       "      <td>97000.0</td>\n",
       "      <td>779900.0</td>\n",
       "    </tr>\n",
       "    <tr>\n",
       "      <th>1</th>\n",
       "      <td>Toronto</td>\n",
       "      <td>799999.0</td>\n",
       "      <td>#818 -60 SOUTHPORT ST</td>\n",
       "      <td>3</td>\n",
       "      <td>1</td>\n",
       "      <td>Ontario</td>\n",
       "      <td>5647656</td>\n",
       "      <td>43.7417</td>\n",
       "      <td>-79.3733</td>\n",
       "      <td>97000.0</td>\n",
       "      <td>799999.0</td>\n",
       "    </tr>\n",
       "    <tr>\n",
       "      <th>2</th>\n",
       "      <td>Toronto</td>\n",
       "      <td>799900.0</td>\n",
       "      <td>#714 -859 THE QUEENSWAY</td>\n",
       "      <td>2</td>\n",
       "      <td>2</td>\n",
       "      <td>Ontario</td>\n",
       "      <td>5647656</td>\n",
       "      <td>43.7417</td>\n",
       "      <td>-79.3733</td>\n",
       "      <td>97000.0</td>\n",
       "      <td>799900.0</td>\n",
       "    </tr>\n",
       "    <tr>\n",
       "      <th>3</th>\n",
       "      <td>Toronto</td>\n",
       "      <td>1200000.0</td>\n",
       "      <td>275 MORTIMER AVE</td>\n",
       "      <td>4</td>\n",
       "      <td>2</td>\n",
       "      <td>Ontario</td>\n",
       "      <td>5647656</td>\n",
       "      <td>43.7417</td>\n",
       "      <td>-79.3733</td>\n",
       "      <td>97000.0</td>\n",
       "      <td>1200000.0</td>\n",
       "    </tr>\n",
       "    <tr>\n",
       "      <th>4</th>\n",
       "      <td>Toronto</td>\n",
       "      <td>668800.0</td>\n",
       "      <td>#420 -388 RICHMOND ST</td>\n",
       "      <td>1</td>\n",
       "      <td>1</td>\n",
       "      <td>Ontario</td>\n",
       "      <td>5647656</td>\n",
       "      <td>43.7417</td>\n",
       "      <td>-79.3733</td>\n",
       "      <td>97000.0</td>\n",
       "      <td>668800.0</td>\n",
       "    </tr>\n",
       "    <tr>\n",
       "      <th>...</th>\n",
       "      <td>...</td>\n",
       "      <td>...</td>\n",
       "      <td>...</td>\n",
       "      <td>...</td>\n",
       "      <td>...</td>\n",
       "      <td>...</td>\n",
       "      <td>...</td>\n",
       "      <td>...</td>\n",
       "      <td>...</td>\n",
       "      <td>...</td>\n",
       "      <td>...</td>\n",
       "    </tr>\n",
       "    <tr>\n",
       "      <th>35763</th>\n",
       "      <td>Halifax</td>\n",
       "      <td>439900.0</td>\n",
       "      <td>301 60 Walter Havill Drive</td>\n",
       "      <td>2</td>\n",
       "      <td>2</td>\n",
       "      <td>Nova Scotia</td>\n",
       "      <td>431479</td>\n",
       "      <td>44.8857</td>\n",
       "      <td>63.1005</td>\n",
       "      <td>86753.0</td>\n",
       "      <td>439900.0</td>\n",
       "    </tr>\n",
       "    <tr>\n",
       "      <th>35764</th>\n",
       "      <td>Halifax</td>\n",
       "      <td>6990000.0</td>\n",
       "      <td>1160 Rockcliffe Street</td>\n",
       "      <td>5</td>\n",
       "      <td>5</td>\n",
       "      <td>Nova Scotia</td>\n",
       "      <td>431479</td>\n",
       "      <td>44.8857</td>\n",
       "      <td>63.1005</td>\n",
       "      <td>86753.0</td>\n",
       "      <td>1999999.0</td>\n",
       "    </tr>\n",
       "    <tr>\n",
       "      <th>35765</th>\n",
       "      <td>Halifax</td>\n",
       "      <td>419900.0</td>\n",
       "      <td>212 60 Walter Havill Drive</td>\n",
       "      <td>2</td>\n",
       "      <td>2</td>\n",
       "      <td>Nova Scotia</td>\n",
       "      <td>431479</td>\n",
       "      <td>44.8857</td>\n",
       "      <td>63.1005</td>\n",
       "      <td>86753.0</td>\n",
       "      <td>419900.0</td>\n",
       "    </tr>\n",
       "    <tr>\n",
       "      <th>35766</th>\n",
       "      <td>Halifax</td>\n",
       "      <td>949900.0</td>\n",
       "      <td>10 Idlewylde Road</td>\n",
       "      <td>3</td>\n",
       "      <td>1</td>\n",
       "      <td>Nova Scotia</td>\n",
       "      <td>431479</td>\n",
       "      <td>44.8857</td>\n",
       "      <td>63.1005</td>\n",
       "      <td>86753.0</td>\n",
       "      <td>949900.0</td>\n",
       "    </tr>\n",
       "    <tr>\n",
       "      <th>35767</th>\n",
       "      <td>Halifax</td>\n",
       "      <td>592900.0</td>\n",
       "      <td>208 2842-2856 Gottingen</td>\n",
       "      <td>2</td>\n",
       "      <td>1</td>\n",
       "      <td>Nova Scotia</td>\n",
       "      <td>431479</td>\n",
       "      <td>44.8857</td>\n",
       "      <td>63.1005</td>\n",
       "      <td>86753.0</td>\n",
       "      <td>592900.0</td>\n",
       "    </tr>\n",
       "  </tbody>\n",
       "</table>\n",
       "<p>35768 rows × 11 columns</p>\n",
       "</div>"
      ],
      "text/plain": [
       "          City      Price                     Address  Number_Beds  \\\n",
       "0      Toronto   779900.0       #318 -20 SOUTHPORT ST            3   \n",
       "1      Toronto   799999.0       #818 -60 SOUTHPORT ST            3   \n",
       "2      Toronto   799900.0     #714 -859 THE QUEENSWAY            2   \n",
       "3      Toronto  1200000.0            275 MORTIMER AVE            4   \n",
       "4      Toronto   668800.0       #420 -388 RICHMOND ST            1   \n",
       "...        ...        ...                         ...          ...   \n",
       "35763  Halifax   439900.0  301 60 Walter Havill Drive            2   \n",
       "35764  Halifax  6990000.0      1160 Rockcliffe Street            5   \n",
       "35765  Halifax   419900.0  212 60 Walter Havill Drive            2   \n",
       "35766  Halifax   949900.0           10 Idlewylde Road            3   \n",
       "35767  Halifax   592900.0     208 2842-2856 Gottingen            2   \n",
       "\n",
       "       Number_Baths     Province  Population  Latitude  Longitude  \\\n",
       "0                 2      Ontario     5647656   43.7417   -79.3733   \n",
       "1                 1      Ontario     5647656   43.7417   -79.3733   \n",
       "2                 2      Ontario     5647656   43.7417   -79.3733   \n",
       "3                 2      Ontario     5647656   43.7417   -79.3733   \n",
       "4                 1      Ontario     5647656   43.7417   -79.3733   \n",
       "...             ...          ...         ...       ...        ...   \n",
       "35763             2  Nova Scotia      431479   44.8857    63.1005   \n",
       "35764             5  Nova Scotia      431479   44.8857    63.1005   \n",
       "35765             2  Nova Scotia      431479   44.8857    63.1005   \n",
       "35766             1  Nova Scotia      431479   44.8857    63.1005   \n",
       "35767             1  Nova Scotia      431479   44.8857    63.1005   \n",
       "\n",
       "       Median_Family_Income  new_price  \n",
       "0                   97000.0   779900.0  \n",
       "1                   97000.0   799999.0  \n",
       "2                   97000.0   799900.0  \n",
       "3                   97000.0  1200000.0  \n",
       "4                   97000.0   668800.0  \n",
       "...                     ...        ...  \n",
       "35763               86753.0   439900.0  \n",
       "35764               86753.0  1999999.0  \n",
       "35765               86753.0   419900.0  \n",
       "35766               86753.0   949900.0  \n",
       "35767               86753.0   592900.0  \n",
       "\n",
       "[35768 rows x 11 columns]"
      ]
     },
     "execution_count": 59,
     "metadata": {},
     "output_type": "execute_result"
    }
   ],
   "source": [
    "Housing"
   ]
  },
  {
   "cell_type": "code",
   "execution_count": 60,
   "id": "068a3397",
   "metadata": {},
   "outputs": [
    {
     "data": {
      "text/plain": [
       "<Axes: ylabel='new_price'>"
      ]
     },
     "execution_count": 60,
     "metadata": {},
     "output_type": "execute_result"
    },
    {
     "data": {
      "image/png": "[encoded data removed]",
      "text/plain": [
       "<Figure size 640x480 with 1 Axes>"
      ]
     },
     "metadata": {},
     "output_type": "display_data"
    }
   ],
   "source": [
    "sns.boxplot(y=\"new_price\", data = Housing)"
   ]
  },
  {
   "cell_type": "code",
   "execution_count": 61,
   "id": "f10b0c3f",
   "metadata": {},
   "outputs": [],
   "source": [
    "#Removing the outlier for Number_Beds\n",
    "#Trimming and capping\n",
    "lowerLimit = Housing[\"Number_Beds\"].quantile(0.00)"
   ]
  },
  {
   "cell_type": "code",
   "execution_count": 62,
   "id": "28ed9f83",
   "metadata": {},
   "outputs": [
    {
     "data": {
      "text/plain": [
       "7.0"
      ]
     },
     "execution_count": 62,
     "metadata": {},
     "output_type": "execute_result"
    }
   ],
   "source": [
    "upperLimit = Housing[\"Number_Beds\"].quantile(0.98)\n",
    "upperLimit"
   ]
  },
  {
   "cell_type": "code",
   "execution_count": 63,
   "id": "dbbf2158",
   "metadata": {},
   "outputs": [],
   "source": [
    "#To comfirm\n",
    "Housing['new_number_beds'] = Housing['Number_Beds'].clip(lowerLimit, upperLimit)"
   ]
  },
  {
   "cell_type": "code",
   "execution_count": 64,
   "id": "7c544a41",
   "metadata": {},
   "outputs": [
    {
     "data": {
      "text/plain": [
       "<Axes: ylabel='new_number_beds'>"
      ]
     },
     "execution_count": 64,
     "metadata": {},
     "output_type": "execute_result"
    },
    {
     "data": {
      "image/png": "[encoded data removed]",
      "text/plain": [
       "<Figure size 640x480 with 1 Axes>"
      ]
     },
     "metadata": {},
     "output_type": "display_data"
    }
   ],
   "source": [
    "sns.boxplot(y=\"new_number_beds\", data = Housing)"
   ]
  },
  {
   "cell_type": "code",
   "execution_count": 81,
   "id": "023a756f",
   "metadata": {},
   "outputs": [],
   "source": [
    "#Removing the outlier for Number_Baths\n",
    "#Trimming and capping\n",
    "lowerLimit = Housing[\"Number_Baths\"].quantile(0.05)"
   ]
  },
  {
   "cell_type": "code",
   "execution_count": 82,
   "id": "03c3f76c",
   "metadata": {},
   "outputs": [
    {
     "data": {
      "text/plain": [
       "4.0"
      ]
     },
     "execution_count": 82,
     "metadata": {},
     "output_type": "execute_result"
    }
   ],
   "source": [
    "upperLimit = Housing[\"Number_Baths\"].quantile(0.92)\n",
    "upperLimit"
   ]
  },
  {
   "cell_type": "code",
   "execution_count": 83,
   "id": "e5641139",
   "metadata": {},
   "outputs": [],
   "source": [
    "#To comfirm\n",
    "Housing['new_number_baths'] = Housing['Number_Baths'].clip(lowerLimit, upperLimit)"
   ]
  },
  {
   "cell_type": "code",
   "execution_count": 84,
   "id": "3c64a663",
   "metadata": {},
   "outputs": [
    {
     "data": {
      "text/plain": [
       "<Axes: ylabel='new_number_baths'>"
      ]
     },
     "execution_count": 84,
     "metadata": {},
     "output_type": "execute_result"
    },
    {
     "data": {
      "image/png": "[encoded data removed]",
      "text/plain": [
       "<Figure size 640x480 with 1 Axes>"
      ]
     },
     "metadata": {},
     "output_type": "display_data"
    }
   ],
   "source": [
    "sns.boxplot(y=\"new_number_baths\", data = Housing)"
   ]
  },
  {
   "cell_type": "code",
   "execution_count": 69,
   "id": "0c2a6e70",
   "metadata": {},
   "outputs": [],
   "source": [
    "#Removing the outlier for Population\n",
    "#Trimming and capping\n",
    "lowerLimit = Housing[\"Population\"].quantile(0.00)"
   ]
  },
  {
   "cell_type": "code",
   "execution_count": 89,
   "id": "fb8e15e1",
   "metadata": {},
   "outputs": [
    {
     "data": {
      "text/plain": [
       "1068821.0"
      ]
     },
     "execution_count": 89,
     "metadata": {},
     "output_type": "execute_result"
    }
   ],
   "source": [
    "upperLimit = Housing[\"Population\"].quantile(0.84)\n",
    "upperLimit"
   ]
  },
  {
   "cell_type": "code",
   "execution_count": 90,
   "id": "4df68a29",
   "metadata": {},
   "outputs": [],
   "source": [
    "#To comfirm\n",
    "Housing['new_population'] = Housing['Population'].clip(lowerLimit, upperLimit)"
   ]
  },
  {
   "cell_type": "code",
   "execution_count": 91,
   "id": "7fe2482f",
   "metadata": {},
   "outputs": [
    {
     "data": {
      "text/plain": [
       "<Axes: ylabel='new_population'>"
      ]
     },
     "execution_count": 91,
     "metadata": {},
     "output_type": "execute_result"
    },
    {
     "data": {
      "image/png": "[encoded data removed]",
      "text/plain": [
       "<Figure size 640x480 with 1 Axes>"
      ]
     },
     "metadata": {},
     "output_type": "display_data"
    }
   ],
   "source": [
    "sns.boxplot(y=\"new_population\", data = Housing)"
   ]
  },
  {
   "cell_type": "code",
   "execution_count": 92,
   "id": "b2572adc",
   "metadata": {},
   "outputs": [
    {
     "data": {
      "text/plain": [
       "<Axes: xlabel='new_price', ylabel='Count'>"
      ]
     },
     "execution_count": 92,
     "metadata": {},
     "output_type": "execute_result"
    },
    {
     "data": {
      "image/png": "[encoded data removed]",
      "text/plain": [
       "<Figure size 640x480 with 1 Axes>"
      ]
     },
     "metadata": {},
     "output_type": "display_data"
    }
   ],
   "source": [
    "sns.histplot(x= \"new_price\", data = Housing)"
   ]
  },
  {
   "cell_type": "code",
   "execution_count": 74,
   "id": "7f8309da",
   "metadata": {},
   "outputs": [],
   "source": [
    "#Encoding and transcribing of the catigorical column"
   ]
  },
  {
   "cell_type": "code",
   "execution_count": 75,
   "id": "5c0beb48",
   "metadata": {},
   "outputs": [],
   "source": [
    "from sklearn.preprocessing import LabelEncoder"
   ]
  },
  {
   "cell_type": "code",
   "execution_count": 76,
   "id": "cfd23045",
   "metadata": {},
   "outputs": [],
   "source": [
    "#creating an object from the Label Encoding class for City\n",
    "Le = LabelEncoder()\n",
    "Housing[\"new_city\"] = Le.fit_transform(Housing[\"City\"])\n"
   ]
  },
  {
   "cell_type": "code",
   "execution_count": 77,
   "id": "24b8d5b7",
   "metadata": {},
   "outputs": [
    {
     "data": {
      "text/html": [
       "<div>\n",
       "<style scoped>\n",
       "    .dataframe tbody tr th:only-of-type {\n",
       "        vertical-align: middle;\n",
       "    }\n",
       "\n",
       "    .dataframe tbody tr th {\n",
       "        vertical-align: top;\n",
       "    }\n",
       "\n",
       "    .dataframe thead th {\n",
       "        text-align: right;\n",
       "    }\n",
       "</style>\n",
       "<table border=\"1\" class=\"dataframe\">\n",
       "  <thead>\n",
       "    <tr style=\"text-align: right;\">\n",
       "      <th></th>\n",
       "      <th>City</th>\n",
       "      <th>Price</th>\n",
       "      <th>Address</th>\n",
       "      <th>Number_Beds</th>\n",
       "      <th>Number_Baths</th>\n",
       "      <th>Province</th>\n",
       "      <th>Population</th>\n",
       "      <th>Latitude</th>\n",
       "      <th>Longitude</th>\n",
       "      <th>Median_Family_Income</th>\n",
       "      <th>new_price</th>\n",
       "      <th>new_number_beds</th>\n",
       "      <th>new_number_baths</th>\n",
       "      <th>new_population</th>\n",
       "      <th>new_city</th>\n",
       "    </tr>\n",
       "  </thead>\n",
       "  <tbody>\n",
       "    <tr>\n",
       "      <th>0</th>\n",
       "      <td>Toronto</td>\n",
       "      <td>779900.0</td>\n",
       "      <td>#318 -20 SOUTHPORT ST</td>\n",
       "      <td>3</td>\n",
       "      <td>2</td>\n",
       "      <td>Ontario</td>\n",
       "      <td>5647656</td>\n",
       "      <td>43.7417</td>\n",
       "      <td>-79.3733</td>\n",
       "      <td>97000.0</td>\n",
       "      <td>779900.0</td>\n",
       "      <td>3</td>\n",
       "      <td>2</td>\n",
       "      <td>1306784</td>\n",
       "      <td>38</td>\n",
       "    </tr>\n",
       "    <tr>\n",
       "      <th>1</th>\n",
       "      <td>Toronto</td>\n",
       "      <td>799999.0</td>\n",
       "      <td>#818 -60 SOUTHPORT ST</td>\n",
       "      <td>3</td>\n",
       "      <td>1</td>\n",
       "      <td>Ontario</td>\n",
       "      <td>5647656</td>\n",
       "      <td>43.7417</td>\n",
       "      <td>-79.3733</td>\n",
       "      <td>97000.0</td>\n",
       "      <td>799999.0</td>\n",
       "      <td>3</td>\n",
       "      <td>1</td>\n",
       "      <td>1306784</td>\n",
       "      <td>38</td>\n",
       "    </tr>\n",
       "    <tr>\n",
       "      <th>2</th>\n",
       "      <td>Toronto</td>\n",
       "      <td>799900.0</td>\n",
       "      <td>#714 -859 THE QUEENSWAY</td>\n",
       "      <td>2</td>\n",
       "      <td>2</td>\n",
       "      <td>Ontario</td>\n",
       "      <td>5647656</td>\n",
       "      <td>43.7417</td>\n",
       "      <td>-79.3733</td>\n",
       "      <td>97000.0</td>\n",
       "      <td>799900.0</td>\n",
       "      <td>2</td>\n",
       "      <td>2</td>\n",
       "      <td>1306784</td>\n",
       "      <td>38</td>\n",
       "    </tr>\n",
       "    <tr>\n",
       "      <th>3</th>\n",
       "      <td>Toronto</td>\n",
       "      <td>1200000.0</td>\n",
       "      <td>275 MORTIMER AVE</td>\n",
       "      <td>4</td>\n",
       "      <td>2</td>\n",
       "      <td>Ontario</td>\n",
       "      <td>5647656</td>\n",
       "      <td>43.7417</td>\n",
       "      <td>-79.3733</td>\n",
       "      <td>97000.0</td>\n",
       "      <td>1200000.0</td>\n",
       "      <td>4</td>\n",
       "      <td>2</td>\n",
       "      <td>1306784</td>\n",
       "      <td>38</td>\n",
       "    </tr>\n",
       "    <tr>\n",
       "      <th>4</th>\n",
       "      <td>Toronto</td>\n",
       "      <td>668800.0</td>\n",
       "      <td>#420 -388 RICHMOND ST</td>\n",
       "      <td>1</td>\n",
       "      <td>1</td>\n",
       "      <td>Ontario</td>\n",
       "      <td>5647656</td>\n",
       "      <td>43.7417</td>\n",
       "      <td>-79.3733</td>\n",
       "      <td>97000.0</td>\n",
       "      <td>668800.0</td>\n",
       "      <td>1</td>\n",
       "      <td>1</td>\n",
       "      <td>1306784</td>\n",
       "      <td>38</td>\n",
       "    </tr>\n",
       "    <tr>\n",
       "      <th>...</th>\n",
       "      <td>...</td>\n",
       "      <td>...</td>\n",
       "      <td>...</td>\n",
       "      <td>...</td>\n",
       "      <td>...</td>\n",
       "      <td>...</td>\n",
       "      <td>...</td>\n",
       "      <td>...</td>\n",
       "      <td>...</td>\n",
       "      <td>...</td>\n",
       "      <td>...</td>\n",
       "      <td>...</td>\n",
       "      <td>...</td>\n",
       "      <td>...</td>\n",
       "      <td>...</td>\n",
       "    </tr>\n",
       "    <tr>\n",
       "      <th>35763</th>\n",
       "      <td>Halifax</td>\n",
       "      <td>439900.0</td>\n",
       "      <td>301 60 Walter Havill Drive</td>\n",
       "      <td>2</td>\n",
       "      <td>2</td>\n",
       "      <td>Nova Scotia</td>\n",
       "      <td>431479</td>\n",
       "      <td>44.8857</td>\n",
       "      <td>63.1005</td>\n",
       "      <td>86753.0</td>\n",
       "      <td>439900.0</td>\n",
       "      <td>2</td>\n",
       "      <td>2</td>\n",
       "      <td>431479</td>\n",
       "      <td>9</td>\n",
       "    </tr>\n",
       "    <tr>\n",
       "      <th>35764</th>\n",
       "      <td>Halifax</td>\n",
       "      <td>6990000.0</td>\n",
       "      <td>1160 Rockcliffe Street</td>\n",
       "      <td>5</td>\n",
       "      <td>5</td>\n",
       "      <td>Nova Scotia</td>\n",
       "      <td>431479</td>\n",
       "      <td>44.8857</td>\n",
       "      <td>63.1005</td>\n",
       "      <td>86753.0</td>\n",
       "      <td>1999999.0</td>\n",
       "      <td>5</td>\n",
       "      <td>5</td>\n",
       "      <td>431479</td>\n",
       "      <td>9</td>\n",
       "    </tr>\n",
       "    <tr>\n",
       "      <th>35765</th>\n",
       "      <td>Halifax</td>\n",
       "      <td>419900.0</td>\n",
       "      <td>212 60 Walter Havill Drive</td>\n",
       "      <td>2</td>\n",
       "      <td>2</td>\n",
       "      <td>Nova Scotia</td>\n",
       "      <td>431479</td>\n",
       "      <td>44.8857</td>\n",
       "      <td>63.1005</td>\n",
       "      <td>86753.0</td>\n",
       "      <td>419900.0</td>\n",
       "      <td>2</td>\n",
       "      <td>2</td>\n",
       "      <td>431479</td>\n",
       "      <td>9</td>\n",
       "    </tr>\n",
       "    <tr>\n",
       "      <th>35766</th>\n",
       "      <td>Halifax</td>\n",
       "      <td>949900.0</td>\n",
       "      <td>10 Idlewylde Road</td>\n",
       "      <td>3</td>\n",
       "      <td>1</td>\n",
       "      <td>Nova Scotia</td>\n",
       "      <td>431479</td>\n",
       "      <td>44.8857</td>\n",
       "      <td>63.1005</td>\n",
       "      <td>86753.0</td>\n",
       "      <td>949900.0</td>\n",
       "      <td>3</td>\n",
       "      <td>1</td>\n",
       "      <td>431479</td>\n",
       "      <td>9</td>\n",
       "    </tr>\n",
       "    <tr>\n",
       "      <th>35767</th>\n",
       "      <td>Halifax</td>\n",
       "      <td>592900.0</td>\n",
       "      <td>208 2842-2856 Gottingen</td>\n",
       "      <td>2</td>\n",
       "      <td>1</td>\n",
       "      <td>Nova Scotia</td>\n",
       "      <td>431479</td>\n",
       "      <td>44.8857</td>\n",
       "      <td>63.1005</td>\n",
       "      <td>86753.0</td>\n",
       "      <td>592900.0</td>\n",
       "      <td>2</td>\n",
       "      <td>1</td>\n",
       "      <td>431479</td>\n",
       "      <td>9</td>\n",
       "    </tr>\n",
       "  </tbody>\n",
       "</table>\n",
       "<p>35768 rows × 15 columns</p>\n",
       "</div>"
      ],
      "text/plain": [
       "          City      Price                     Address  Number_Beds  \\\n",
       "0      Toronto   779900.0       #318 -20 SOUTHPORT ST            3   \n",
       "1      Toronto   799999.0       #818 -60 SOUTHPORT ST            3   \n",
       "2      Toronto   799900.0     #714 -859 THE QUEENSWAY            2   \n",
       "3      Toronto  1200000.0            275 MORTIMER AVE            4   \n",
       "4      Toronto   668800.0       #420 -388 RICHMOND ST            1   \n",
       "...        ...        ...                         ...          ...   \n",
       "35763  Halifax   439900.0  301 60 Walter Havill Drive            2   \n",
       "35764  Halifax  6990000.0      1160 Rockcliffe Street            5   \n",
       "35765  Halifax   419900.0  212 60 Walter Havill Drive            2   \n",
       "35766  Halifax   949900.0           10 Idlewylde Road            3   \n",
       "35767  Halifax   592900.0     208 2842-2856 Gottingen            2   \n",
       "\n",
       "       Number_Baths     Province  Population  Latitude  Longitude  \\\n",
       "0                 2      Ontario     5647656   43.7417   -79.3733   \n",
       "1                 1      Ontario     5647656   43.7417   -79.3733   \n",
       "2                 2      Ontario     5647656   43.7417   -79.3733   \n",
       "3                 2      Ontario     5647656   43.7417   -79.3733   \n",
       "4                 1      Ontario     5647656   43.7417   -79.3733   \n",
       "...             ...          ...         ...       ...        ...   \n",
       "35763             2  Nova Scotia      431479   44.8857    63.1005   \n",
       "35764             5  Nova Scotia      431479   44.8857    63.1005   \n",
       "35765             2  Nova Scotia      431479   44.8857    63.1005   \n",
       "35766             1  Nova Scotia      431479   44.8857    63.1005   \n",
       "35767             1  Nova Scotia      431479   44.8857    63.1005   \n",
       "\n",
       "       Median_Family_Income  new_price  new_number_beds  new_number_baths  \\\n",
       "0                   97000.0   779900.0                3                 2   \n",
       "1                   97000.0   799999.0                3                 1   \n",
       "2                   97000.0   799900.0                2                 2   \n",
       "3                   97000.0  1200000.0                4                 2   \n",
       "4                   97000.0   668800.0                1                 1   \n",
       "...                     ...        ...              ...               ...   \n",
       "35763               86753.0   439900.0                2                 2   \n",
       "35764               86753.0  1999999.0                5                 5   \n",
       "35765               86753.0   419900.0                2                 2   \n",
       "35766               86753.0   949900.0                3                 1   \n",
       "35767               86753.0   592900.0                2                 1   \n",
       "\n",
       "       new_population  new_city  \n",
       "0             1306784        38  \n",
       "1             1306784        38  \n",
       "2             1306784        38  \n",
       "3             1306784        38  \n",
       "4             1306784        38  \n",
       "...               ...       ...  \n",
       "35763          431479         9  \n",
       "35764          431479         9  \n",
       "35765          431479         9  \n",
       "35766          431479         9  \n",
       "35767          431479         9  \n",
       "\n",
       "[35768 rows x 15 columns]"
      ]
     },
     "execution_count": 77,
     "metadata": {},
     "output_type": "execute_result"
    }
   ],
   "source": [
    "Housing"
   ]
  },
  {
   "cell_type": "code",
   "execution_count": 78,
   "id": "66710028",
   "metadata": {},
   "outputs": [],
   "source": [
    "#creating an object from the Label Encoding class for Province\n",
    "Le = LabelEncoder()\n",
    "Housing[\"new_province\"] = Le.fit_transform(Housing[\"Province\"])"
   ]
  },
  {
   "cell_type": "code",
   "execution_count": 79,
   "id": "963341b6",
   "metadata": {},
   "outputs": [],
   "source": [
    "#creating an object from the Label Encoding class for City\n",
    "Le = LabelEncoder()\n",
    "Housing[\"new_province\"] = Le.fit_transform(Housing[\"Province\"])"
   ]
  },
  {
   "cell_type": "code",
   "execution_count": 80,
   "id": "61af1a2d",
   "metadata": {},
   "outputs": [
    {
     "data": {
      "text/html": [
       "<div>\n",
       "<style scoped>\n",
       "    .dataframe tbody tr th:only-of-type {\n",
       "        vertical-align: middle;\n",
       "    }\n",
       "\n",
       "    .dataframe tbody tr th {\n",
       "        vertical-align: top;\n",
       "    }\n",
       "\n",
       "    .dataframe thead th {\n",
       "        text-align: right;\n",
       "    }\n",
       "</style>\n",
       "<table border=\"1\" class=\"dataframe\">\n",
       "  <thead>\n",
       "    <tr style=\"text-align: right;\">\n",
       "      <th></th>\n",
       "      <th>City</th>\n",
       "      <th>Price</th>\n",
       "      <th>Address</th>\n",
       "      <th>Number_Beds</th>\n",
       "      <th>Number_Baths</th>\n",
       "      <th>Province</th>\n",
       "      <th>Population</th>\n",
       "      <th>Latitude</th>\n",
       "      <th>Longitude</th>\n",
       "      <th>Median_Family_Income</th>\n",
       "      <th>new_price</th>\n",
       "      <th>new_number_beds</th>\n",
       "      <th>new_number_baths</th>\n",
       "      <th>new_population</th>\n",
       "      <th>new_city</th>\n",
       "      <th>new_province</th>\n",
       "    </tr>\n",
       "  </thead>\n",
       "  <tbody>\n",
       "    <tr>\n",
       "      <th>0</th>\n",
       "      <td>Toronto</td>\n",
       "      <td>779900.0</td>\n",
       "      <td>#318 -20 SOUTHPORT ST</td>\n",
       "      <td>3</td>\n",
       "      <td>2</td>\n",
       "      <td>Ontario</td>\n",
       "      <td>5647656</td>\n",
       "      <td>43.7417</td>\n",
       "      <td>-79.3733</td>\n",
       "      <td>97000.0</td>\n",
       "      <td>779900.0</td>\n",
       "      <td>3</td>\n",
       "      <td>2</td>\n",
       "      <td>1306784</td>\n",
       "      <td>38</td>\n",
       "      <td>6</td>\n",
       "    </tr>\n",
       "    <tr>\n",
       "      <th>1</th>\n",
       "      <td>Toronto</td>\n",
       "      <td>799999.0</td>\n",
       "      <td>#818 -60 SOUTHPORT ST</td>\n",
       "      <td>3</td>\n",
       "      <td>1</td>\n",
       "      <td>Ontario</td>\n",
       "      <td>5647656</td>\n",
       "      <td>43.7417</td>\n",
       "      <td>-79.3733</td>\n",
       "      <td>97000.0</td>\n",
       "      <td>799999.0</td>\n",
       "      <td>3</td>\n",
       "      <td>1</td>\n",
       "      <td>1306784</td>\n",
       "      <td>38</td>\n",
       "      <td>6</td>\n",
       "    </tr>\n",
       "    <tr>\n",
       "      <th>2</th>\n",
       "      <td>Toronto</td>\n",
       "      <td>799900.0</td>\n",
       "      <td>#714 -859 THE QUEENSWAY</td>\n",
       "      <td>2</td>\n",
       "      <td>2</td>\n",
       "      <td>Ontario</td>\n",
       "      <td>5647656</td>\n",
       "      <td>43.7417</td>\n",
       "      <td>-79.3733</td>\n",
       "      <td>97000.0</td>\n",
       "      <td>799900.0</td>\n",
       "      <td>2</td>\n",
       "      <td>2</td>\n",
       "      <td>1306784</td>\n",
       "      <td>38</td>\n",
       "      <td>6</td>\n",
       "    </tr>\n",
       "    <tr>\n",
       "      <th>3</th>\n",
       "      <td>Toronto</td>\n",
       "      <td>1200000.0</td>\n",
       "      <td>275 MORTIMER AVE</td>\n",
       "      <td>4</td>\n",
       "      <td>2</td>\n",
       "      <td>Ontario</td>\n",
       "      <td>5647656</td>\n",
       "      <td>43.7417</td>\n",
       "      <td>-79.3733</td>\n",
       "      <td>97000.0</td>\n",
       "      <td>1200000.0</td>\n",
       "      <td>4</td>\n",
       "      <td>2</td>\n",
       "      <td>1306784</td>\n",
       "      <td>38</td>\n",
       "      <td>6</td>\n",
       "    </tr>\n",
       "    <tr>\n",
       "      <th>4</th>\n",
       "      <td>Toronto</td>\n",
       "      <td>668800.0</td>\n",
       "      <td>#420 -388 RICHMOND ST</td>\n",
       "      <td>1</td>\n",
       "      <td>1</td>\n",
       "      <td>Ontario</td>\n",
       "      <td>5647656</td>\n",
       "      <td>43.7417</td>\n",
       "      <td>-79.3733</td>\n",
       "      <td>97000.0</td>\n",
       "      <td>668800.0</td>\n",
       "      <td>1</td>\n",
       "      <td>1</td>\n",
       "      <td>1306784</td>\n",
       "      <td>38</td>\n",
       "      <td>6</td>\n",
       "    </tr>\n",
       "    <tr>\n",
       "      <th>...</th>\n",
       "      <td>...</td>\n",
       "      <td>...</td>\n",
       "      <td>...</td>\n",
       "      <td>...</td>\n",
       "      <td>...</td>\n",
       "      <td>...</td>\n",
       "      <td>...</td>\n",
       "      <td>...</td>\n",
       "      <td>...</td>\n",
       "      <td>...</td>\n",
       "      <td>...</td>\n",
       "      <td>...</td>\n",
       "      <td>...</td>\n",
       "      <td>...</td>\n",
       "      <td>...</td>\n",
       "      <td>...</td>\n",
       "    </tr>\n",
       "    <tr>\n",
       "      <th>35763</th>\n",
       "      <td>Halifax</td>\n",
       "      <td>439900.0</td>\n",
       "      <td>301 60 Walter Havill Drive</td>\n",
       "      <td>2</td>\n",
       "      <td>2</td>\n",
       "      <td>Nova Scotia</td>\n",
       "      <td>431479</td>\n",
       "      <td>44.8857</td>\n",
       "      <td>63.1005</td>\n",
       "      <td>86753.0</td>\n",
       "      <td>439900.0</td>\n",
       "      <td>2</td>\n",
       "      <td>2</td>\n",
       "      <td>431479</td>\n",
       "      <td>9</td>\n",
       "      <td>5</td>\n",
       "    </tr>\n",
       "    <tr>\n",
       "      <th>35764</th>\n",
       "      <td>Halifax</td>\n",
       "      <td>6990000.0</td>\n",
       "      <td>1160 Rockcliffe Street</td>\n",
       "      <td>5</td>\n",
       "      <td>5</td>\n",
       "      <td>Nova Scotia</td>\n",
       "      <td>431479</td>\n",
       "      <td>44.8857</td>\n",
       "      <td>63.1005</td>\n",
       "      <td>86753.0</td>\n",
       "      <td>1999999.0</td>\n",
       "      <td>5</td>\n",
       "      <td>5</td>\n",
       "      <td>431479</td>\n",
       "      <td>9</td>\n",
       "      <td>5</td>\n",
       "    </tr>\n",
       "    <tr>\n",
       "      <th>35765</th>\n",
       "      <td>Halifax</td>\n",
       "      <td>419900.0</td>\n",
       "      <td>212 60 Walter Havill Drive</td>\n",
       "      <td>2</td>\n",
       "      <td>2</td>\n",
       "      <td>Nova Scotia</td>\n",
       "      <td>431479</td>\n",
       "      <td>44.8857</td>\n",
       "      <td>63.1005</td>\n",
       "      <td>86753.0</td>\n",
       "      <td>419900.0</td>\n",
       "      <td>2</td>\n",
       "      <td>2</td>\n",
       "      <td>431479</td>\n",
       "      <td>9</td>\n",
       "      <td>5</td>\n",
       "    </tr>\n",
       "    <tr>\n",
       "      <th>35766</th>\n",
       "      <td>Halifax</td>\n",
       "      <td>949900.0</td>\n",
       "      <td>10 Idlewylde Road</td>\n",
       "      <td>3</td>\n",
       "      <td>1</td>\n",
       "      <td>Nova Scotia</td>\n",
       "      <td>431479</td>\n",
       "      <td>44.8857</td>\n",
       "      <td>63.1005</td>\n",
       "      <td>86753.0</td>\n",
       "      <td>949900.0</td>\n",
       "      <td>3</td>\n",
       "      <td>1</td>\n",
       "      <td>431479</td>\n",
       "      <td>9</td>\n",
       "      <td>5</td>\n",
       "    </tr>\n",
       "    <tr>\n",
       "      <th>35767</th>\n",
       "      <td>Halifax</td>\n",
       "      <td>592900.0</td>\n",
       "      <td>208 2842-2856 Gottingen</td>\n",
       "      <td>2</td>\n",
       "      <td>1</td>\n",
       "      <td>Nova Scotia</td>\n",
       "      <td>431479</td>\n",
       "      <td>44.8857</td>\n",
       "      <td>63.1005</td>\n",
       "      <td>86753.0</td>\n",
       "      <td>592900.0</td>\n",
       "      <td>2</td>\n",
       "      <td>1</td>\n",
       "      <td>431479</td>\n",
       "      <td>9</td>\n",
       "      <td>5</td>\n",
       "    </tr>\n",
       "  </tbody>\n",
       "</table>\n",
       "<p>35768 rows × 16 columns</p>\n",
       "</div>"
      ],
      "text/plain": [
       "          City      Price                     Address  Number_Beds  \\\n",
       "0      Toronto   779900.0       #318 -20 SOUTHPORT ST            3   \n",
       "1      Toronto   799999.0       #818 -60 SOUTHPORT ST            3   \n",
       "2      Toronto   799900.0     #714 -859 THE QUEENSWAY            2   \n",
       "3      Toronto  1200000.0            275 MORTIMER AVE            4   \n",
       "4      Toronto   668800.0       #420 -388 RICHMOND ST            1   \n",
       "...        ...        ...                         ...          ...   \n",
       "35763  Halifax   439900.0  301 60 Walter Havill Drive            2   \n",
       "35764  Halifax  6990000.0      1160 Rockcliffe Street            5   \n",
       "35765  Halifax   419900.0  212 60 Walter Havill Drive            2   \n",
       "35766  Halifax   949900.0           10 Idlewylde Road            3   \n",
       "35767  Halifax   592900.0     208 2842-2856 Gottingen            2   \n",
       "\n",
       "       Number_Baths     Province  Population  Latitude  Longitude  \\\n",
       "0                 2      Ontario     5647656   43.7417   -79.3733   \n",
       "1                 1      Ontario     5647656   43.7417   -79.3733   \n",
       "2                 2      Ontario     5647656   43.7417   -79.3733   \n",
       "3                 2      Ontario     5647656   43.7417   -79.3733   \n",
       "4                 1      Ontario     5647656   43.7417   -79.3733   \n",
       "...             ...          ...         ...       ...        ...   \n",
       "35763             2  Nova Scotia      431479   44.8857    63.1005   \n",
       "35764             5  Nova Scotia      431479   44.8857    63.1005   \n",
       "35765             2  Nova Scotia      431479   44.8857    63.1005   \n",
       "35766             1  Nova Scotia      431479   44.8857    63.1005   \n",
       "35767             1  Nova Scotia      431479   44.8857    63.1005   \n",
       "\n",
       "       Median_Family_Income  new_price  new_number_beds  new_number_baths  \\\n",
       "0                   97000.0   779900.0                3                 2   \n",
       "1                   97000.0   799999.0                3                 1   \n",
       "2                   97000.0   799900.0                2                 2   \n",
       "3                   97000.0  1200000.0                4                 2   \n",
       "4                   97000.0   668800.0                1                 1   \n",
       "...                     ...        ...              ...               ...   \n",
       "35763               86753.0   439900.0                2                 2   \n",
       "35764               86753.0  1999999.0                5                 5   \n",
       "35765               86753.0   419900.0                2                 2   \n",
       "35766               86753.0   949900.0                3                 1   \n",
       "35767               86753.0   592900.0                2                 1   \n",
       "\n",
       "       new_population  new_city  new_province  \n",
       "0             1306784        38             6  \n",
       "1             1306784        38             6  \n",
       "2             1306784        38             6  \n",
       "3             1306784        38             6  \n",
       "4             1306784        38             6  \n",
       "...               ...       ...           ...  \n",
       "35763          431479         9             5  \n",
       "35764          431479         9             5  \n",
       "35765          431479         9             5  \n",
       "35766          431479         9             5  \n",
       "35767          431479         9             5  \n",
       "\n",
       "[35768 rows x 16 columns]"
      ]
     },
     "execution_count": 80,
     "metadata": {},
     "output_type": "execute_result"
    }
   ],
   "source": [
    "Housing"
   ]
  },
  {
   "cell_type": "code",
   "execution_count": 94,
   "id": "201df405",
   "metadata": {},
   "outputs": [],
   "source": [
    "#Extract the value of X\n",
    "X = Housing[['Latitude', 'Longitude', 'Median_Family_Income',\n",
    "      'new_number_beds', 'new_number_baths', 'new_population',\n",
    "       'new_city', 'new_province']].values"
   ]
  },
  {
   "cell_type": "code",
   "execution_count": 95,
   "id": "0996c985",
   "metadata": {},
   "outputs": [
    {
     "data": {
      "text/plain": [
       "array([[ 4.374170e+01, -7.937330e+01,  9.700000e+04, ...,  1.068821e+06,\n",
       "         3.800000e+01,  6.000000e+00],\n",
       "       [ 4.374170e+01, -7.937330e+01,  9.700000e+04, ...,  1.068821e+06,\n",
       "         3.800000e+01,  6.000000e+00],\n",
       "       [ 4.374170e+01, -7.937330e+01,  9.700000e+04, ...,  1.068821e+06,\n",
       "         3.800000e+01,  6.000000e+00],\n",
       "       ...,\n",
       "       [ 4.488570e+01,  6.310050e+01,  8.675300e+04, ...,  4.314790e+05,\n",
       "         9.000000e+00,  5.000000e+00],\n",
       "       [ 4.488570e+01,  6.310050e+01,  8.675300e+04, ...,  4.314790e+05,\n",
       "         9.000000e+00,  5.000000e+00],\n",
       "       [ 4.488570e+01,  6.310050e+01,  8.675300e+04, ...,  4.314790e+05,\n",
       "         9.000000e+00,  5.000000e+00]])"
      ]
     },
     "execution_count": 95,
     "metadata": {},
     "output_type": "execute_result"
    }
   ],
   "source": [
    "X"
   ]
  },
  {
   "cell_type": "code",
   "execution_count": 96,
   "id": "b09adc44",
   "metadata": {},
   "outputs": [
    {
     "data": {
      "text/plain": [
       "array([779900., 799999., 799900., ..., 419900., 949900., 592900.])"
      ]
     },
     "execution_count": 96,
     "metadata": {},
     "output_type": "execute_result"
    }
   ],
   "source": [
    "#Extract the value of Y\n",
    "Y = Housing['Price'].values\n",
    "Y"
   ]
  },
  {
   "cell_type": "code",
   "execution_count": 98,
   "id": "80221d4a",
   "metadata": {},
   "outputs": [],
   "source": [
    "\n",
    "from sklearn.model_selection import train_test_split \n",
    "X_train, X_test, Y_train, Y_test = train_test_split(X,Y, test_size= 0.3)"
   ]
  },
  {
   "cell_type": "code",
   "execution_count": 100,
   "id": "27e90095",
   "metadata": {},
   "outputs": [
    {
     "data": {
      "text/plain": [
       "array([[ 4.325670e+01, -7.986920e+01,  9.100000e+04, ...,  7.295600e+05,\n",
       "         1.000000e+01,  6.000000e+00],\n",
       "       [ 4.988440e+01, -9.714640e+01,  8.300000e+04, ...,  7.585150e+05,\n",
       "         4.400000e+01,  2.000000e+00],\n",
       "       [ 4.355000e+01, -8.025000e+01,  9.700000e+04, ...,  1.443560e+05,\n",
       "         8.000000e+00,  6.000000e+00],\n",
       "       ...,\n",
       "       [ 4.842830e+01, -1.233647e+02,  8.500000e+04, ...,  3.632220e+05,\n",
       "         4.100000e+01,  1.000000e+00],\n",
       "       [ 4.390000e+01, -7.885000e+01,  1.020000e+05, ...,  3.359490e+05,\n",
       "         2.300000e+01,  6.000000e+00],\n",
       "       [ 4.748170e+01, -5.279710e+01,  8.500000e+04, ...,  1.855650e+05,\n",
       "         3.500000e+01,  4.000000e+00]])"
      ]
     },
     "execution_count": 100,
     "metadata": {},
     "output_type": "execute_result"
    }
   ],
   "source": [
    "#for X_train\n",
    "X_train"
   ]
  },
  {
   "cell_type": "code",
   "execution_count": 101,
   "id": "84a1af59",
   "metadata": {},
   "outputs": [],
   "source": [
    "#Normalise the data\n",
    "from sklearn.preprocessing import StandardScaler\n",
    "scaler = StandardScaler()\n",
    "X_train=scaler.fit_transform(X_train)\n"
   ]
  },
  {
   "cell_type": "code",
   "execution_count": 106,
   "id": "704db7cf",
   "metadata": {},
   "outputs": [
    {
     "data": {
      "text/plain": [
       "array([[-1.25635007,  0.82440791,  0.11150762, ...,  0.93399432,\n",
       "        -0.86958754,  0.76100996],\n",
       "       [ 0.73412779,  0.05149899, -0.5427347 , ...,  1.01478855,\n",
       "         1.69841028, -0.65074563],\n",
       "       [-1.16826414,  0.80737253,  0.60218935, ..., -0.69892264,\n",
       "        -1.02064623,  0.76100996],\n",
       "       ...,\n",
       "       [ 0.29682152, -1.12139696, -0.37917412, ..., -0.08821252,\n",
       "         1.47182224, -1.00368453],\n",
       "       [-1.06314965,  0.87000261,  1.0110908 , ..., -0.16431341,\n",
       "         0.11229398,  0.76100996],\n",
       "       [ 0.01253189,  2.03549927, -0.37917412, ..., -0.5839356 ,\n",
       "         1.01864615,  0.05513217]])"
      ]
     },
     "execution_count": 106,
     "metadata": {},
     "output_type": "execute_result"
    }
   ],
   "source": [
    "X_train"
   ]
  },
  {
   "cell_type": "code",
   "execution_count": 103,
   "id": "9fb6a11f",
   "metadata": {},
   "outputs": [
    {
     "data": {
      "text/plain": [
       "array([ 690000.,  199900.,  667400., ...,  698800., 1300000.,  424900.])"
      ]
     },
     "execution_count": 103,
     "metadata": {},
     "output_type": "execute_result"
    }
   ],
   "source": [
    "#For Y_train\n",
    "Y_train"
   ]
  },
  {
   "cell_type": "code",
   "execution_count": 104,
   "id": "02e8d213",
   "metadata": {},
   "outputs": [],
   "source": [
    "#Convert to 2D\n",
    "Y_train = Y_train.reshape(-1,1)"
   ]
  },
  {
   "cell_type": "code",
   "execution_count": 105,
   "id": "3d80fd7f",
   "metadata": {},
   "outputs": [
    {
     "data": {
      "text/plain": [
       "array([[ 690000.],\n",
       "       [ 199900.],\n",
       "       [ 667400.],\n",
       "       ...,\n",
       "       [ 698800.],\n",
       "       [1300000.],\n",
       "       [ 424900.]])"
      ]
     },
     "execution_count": 105,
     "metadata": {},
     "output_type": "execute_result"
    }
   ],
   "source": [
    "Y_train"
   ]
  },
  {
   "cell_type": "code",
   "execution_count": 107,
   "id": "8584f1d1",
   "metadata": {},
   "outputs": [],
   "source": [
    "#Normalise the data\n",
    "Y_train=scaler.fit_transform(Y_train)"
   ]
  },
  {
   "cell_type": "code",
   "execution_count": 108,
   "id": "ad358e03",
   "metadata": {},
   "outputs": [
    {
     "data": {
      "text/plain": [
       "array([[-0.24280631],\n",
       "       [-0.72157253],\n",
       "       [-0.26488367],\n",
       "       ...,\n",
       "       [-0.23420981],\n",
       "       [ 0.35308718],\n",
       "       [-0.50177575]])"
      ]
     },
     "execution_count": 108,
     "metadata": {},
     "output_type": "execute_result"
    }
   ],
   "source": [
    "Y_train"
   ]
  },
  {
   "cell_type": "code",
   "execution_count": 109,
   "id": "f0d825d4",
   "metadata": {},
   "outputs": [
    {
     "data": {
      "text/html": [
       "<style>#sk-container-id-1 {color: black;}#sk-container-id-1 pre{padding: 0;}#sk-container-id-1 div.sk-toggleable {background-color: white;}#sk-container-id-1 label.sk-toggleable__label {cursor: pointer;display: block;width: 100%;margin-bottom: 0;padding: 0.3em;box-sizing: border-box;text-align: center;}#sk-container-id-1 label.sk-toggleable__label-arrow:before {content: \"▸\";float: left;margin-right: 0.25em;color: #696969;}#sk-container-id-1 label.sk-toggleable__label-arrow:hover:before {color: black;}#sk-container-id-1 div.sk-estimator:hover label.sk-toggleable__label-arrow:before {color: black;}#sk-container-id-1 div.sk-toggleable__content {max-height: 0;max-width: 0;overflow: hidden;text-align: left;background-color: #f0f8ff;}#sk-container-id-1 div.sk-toggleable__content pre {margin: 0.2em;color: black;border-radius: 0.25em;background-color: #f0f8ff;}#sk-container-id-1 input.sk-toggleable__control:checked~div.sk-toggleable__content {max-height: 200px;max-width: 100%;overflow: auto;}#sk-container-id-1 input.sk-toggleable__control:checked~label.sk-toggleable__label-arrow:before {content: \"▾\";}#sk-container-id-1 div.sk-estimator input.sk-toggleable__control:checked~label.sk-toggleable__label {background-color: #d4ebff;}#sk-container-id-1 div.sk-label input.sk-toggleable__control:checked~label.sk-toggleable__label {background-color: #d4ebff;}#sk-container-id-1 input.sk-hidden--visually {border: 0;clip: rect(1px 1px 1px 1px);clip: rect(1px, 1px, 1px, 1px);height: 1px;margin: -1px;overflow: hidden;padding: 0;position: absolute;width: 1px;}#sk-container-id-1 div.sk-estimator {font-family: monospace;background-color: #f0f8ff;border: 1px dotted black;border-radius: 0.25em;box-sizing: border-box;margin-bottom: 0.5em;}#sk-container-id-1 div.sk-estimator:hover {background-color: #d4ebff;}#sk-container-id-1 div.sk-parallel-item::after {content: \"\";width: 100%;border-bottom: 1px solid gray;flex-grow: 1;}#sk-container-id-1 div.sk-label:hover label.sk-toggleable__label {background-color: #d4ebff;}#sk-container-id-1 div.sk-serial::before {content: \"\";position: absolute;border-left: 1px solid gray;box-sizing: border-box;top: 0;bottom: 0;left: 50%;z-index: 0;}#sk-container-id-1 div.sk-serial {display: flex;flex-direction: column;align-items: center;background-color: white;padding-right: 0.2em;padding-left: 0.2em;position: relative;}#sk-container-id-1 div.sk-item {position: relative;z-index: 1;}#sk-container-id-1 div.sk-parallel {display: flex;align-items: stretch;justify-content: center;background-color: white;position: relative;}#sk-container-id-1 div.sk-item::before, #sk-container-id-1 div.sk-parallel-item::before {content: \"\";position: absolute;border-left: 1px solid gray;box-sizing: border-box;top: 0;bottom: 0;left: 50%;z-index: -1;}#sk-container-id-1 div.sk-parallel-item {display: flex;flex-direction: column;z-index: 1;position: relative;background-color: white;}#sk-container-id-1 div.sk-parallel-item:first-child::after {align-self: flex-end;width: 50%;}#sk-container-id-1 div.sk-parallel-item:last-child::after {align-self: flex-start;width: 50%;}#sk-container-id-1 div.sk-parallel-item:only-child::after {width: 0;}#sk-container-id-1 div.sk-dashed-wrapped {border: 1px dashed gray;margin: 0 0.4em 0.5em 0.4em;box-sizing: border-box;padding-bottom: 0.4em;background-color: white;}#sk-container-id-1 div.sk-label label {font-family: monospace;font-weight: bold;display: inline-block;line-height: 1.2em;}#sk-container-id-1 div.sk-label-container {text-align: center;}#sk-container-id-1 div.sk-container {/* jupyter's `normalize.less` sets `[hidden] { display: none; }` but bootstrap.min.css set `[hidden] { display: none !important; }` so we also need the `!important` here to be able to override the default hidden behavior on the sphinx rendered scikit-learn.org. See: https://github.com/scikit-learn/scikit-learn/issues/21755 */display: inline-block !important;position: relative;}#sk-container-id-1 div.sk-text-repr-fallback {display: none;}</style><div id=\"sk-container-id-1\" class=\"sk-top-container\"><div class=\"sk-text-repr-fallback\"><pre>LinearRegression()</pre><b>In a Jupyter environment, please rerun this cell to show the HTML representation or trust the notebook. <br />On GitHub, the HTML representation is unable to render, please try loading this page with nbviewer.org.</b></div><div class=\"sk-container\" hidden><div class=\"sk-item\"><div class=\"sk-estimator sk-toggleable\"><input class=\"sk-toggleable__control sk-hidden--visually\" id=\"sk-estimator-id-1\" type=\"checkbox\" checked><label for=\"sk-estimator-id-1\" class=\"sk-toggleable__label sk-toggleable__label-arrow\">LinearRegression</label><div class=\"sk-toggleable__content\"><pre>LinearRegression()</pre></div></div></div></div></div>"
      ],
      "text/plain": [
       "LinearRegression()"
      ]
     },
     "execution_count": 109,
     "metadata": {},
     "output_type": "execute_result"
    }
   ],
   "source": [
    "#Training the model\n",
    "from sklearn.linear_model import LinearRegression\n",
    "reglin = LinearRegression()\n",
    "reglin.fit(X_train,Y_train)"
   ]
  },
  {
   "cell_type": "code",
   "execution_count": 110,
   "id": "bf651ab2",
   "metadata": {},
   "outputs": [],
   "source": [
    "#Make a prediction\n",
    "Y_pred = reglin.predict(X_test)"
   ]
  },
  {
   "cell_type": "code",
   "execution_count": 114,
   "id": "8ea3fd4a",
   "metadata": {},
   "outputs": [
    {
     "data": {
      "image/png": "[encoded data removed]",
      "text/plain": [
       "<Figure size 640x480 with 1 Axes>"
      ]
     },
     "metadata": {},
     "output_type": "display_data"
    }
   ],
   "source": [
    "plt.plot(X_test,Y_pred, color=\"blue\")\n",
    "plt.show()"
   ]
  },
  {
   "cell_type": "code",
   "execution_count": null,
   "id": "bcb19071",
   "metadata": {},
   "outputs": [],
   "source": [
    "#For Evaluation\n",
    "from sklearn.metrics import mean_squared_error, r2_score"
   ]
  }
 ],
 "metadata": {
  "kernelspec": {
   "display_name": "Python 3 (ipykernel)",
   "language": "python",
   "name": "python3"
  },
  "language_info": {
   "codemirror_mode": {
    "name": "ipython",
    "version": 3
   },
   "file_extension": ".py",
   "mimetype": "text/x-python",
   "name": "python",
   "nbconvert_exporter": "python",
   "pygments_lexer": "ipython3",
   "version": "3.11.5"
  }
 },
 "nbformat": 4,
 "nbformat_minor": 5
}
